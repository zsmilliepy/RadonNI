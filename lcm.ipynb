{
 "cells": [
  {
   "cell_type": "code",
   "execution_count": 1,
   "id": "b8a9ec21",
   "metadata": {},
   "outputs": [],
   "source": [
    "%matplotlib notebook\n",
    "\n",
    "import numpy as np\n",
    "import rasterio as rio\n",
    "import geopandas as gpd\n",
    "import matplotlib.pyplot as plt\n",
    "from rasterstats import zonal_stats\n",
    "\n",
    "plt.rcParams.update({'font.size': 22}) # update the font size for our plots to be size 22"
   ]
  },
  {
   "cell_type": "code",
   "execution_count": 2,
   "id": "cc968b6e",
   "metadata": {},
   "outputs": [],
   "source": [
    "def generate_handles(labels, colors, edge='k', alpha=1):\n",
    "    lc = len(colors)  # get the length of the color list\n",
    "    handles = []\n",
    "    for i in range(len(labels)):\n",
    "        handles.append(mpatches.Rectangle((0, 0), 1, 1, facecolor=colors[i % lc], edgecolor=edge, alpha=alpha))\n",
    "    return handles"
   ]
  },
  {
   "cell_type": "code",
   "execution_count": 3,
   "id": "cd4855ef",
   "metadata": {},
   "outputs": [],
   "source": [
    "# open the land cover raster and read the data\n",
    "with rio.open('data_files/LCM2015.tif') as dataset:\n",
    "    xmin, ymin, xmax, ymax = dataset.bounds \n",
    "    crs = dataset.crs\n",
    "    lcm = dataset.read(1)\n",
    "    affine_tfm = dataset.transform\n",
    "\n",
    "# now, load the county dataset from the week 2 folder\n",
    "radon = gpd.read_file('data_files/radonNI.shp').to_crs(crs)"
   ]
  },
  {
   "cell_type": "code",
   "execution_count": 4,
   "id": "c1aa325f",
   "metadata": {},
   "outputs": [
    {
     "name": "stdout",
     "output_type": "stream",
     "text": [
      "{'1': 91, '2': 693, '3': 498, '4': 9808, '5': 93, '6': 1, '7': 377, '9': 144, '10': 487, '11': 834, '12': 1, '13': 33, '14': 86, '15': 2, '16': 26, '17': 2, '18': 14, '20': 48, '21': 443, '127': 12094}\n"
     ]
    }
   ],
   "source": [
    "def count_unique(array, nodata=0):\n",
    "    '''\n",
    "    Count the unique elements of an array.\n",
    "\n",
    "    :param array: Input array\n",
    "    :param nodata: nodata value to ignore in the counting\n",
    "    \n",
    "    :returns count_dict: a dictionary of unique values and counts\n",
    "    '''\n",
    "    count_dict = {}\n",
    "    for val in np.unique(array):\n",
    "        if val == nodata:\n",
    "            continue\n",
    "        count_dict[str(val)] = np.count_nonzero(array == val)\n",
    "    return count_dict\n",
    "\n",
    "unique_lcm = count_unique(lcm)\n",
    "print(unique_lcm)"
   ]
  },
  {
   "cell_type": "code",
   "execution_count": 7,
   "id": "9f429a76",
   "metadata": {},
   "outputs": [
    {
     "name": "stdout",
     "output_type": "stream",
     "text": [
      "{10.0: 1}\n"
     ]
    }
   ],
   "source": [
    "lcm_stats = zonal_stats(radon, lcm, affine=affine_tfm, categorical=True, nodata=0)\n",
    "\n",
    "print(lcm_stats[5])"
   ]
  },
  {
   "cell_type": "code",
   "execution_count": null,
   "id": "4430636c",
   "metadata": {},
   "outputs": [],
   "source": []
  }
 ],
 "metadata": {
  "kernelspec": {
   "display_name": "Python 3",
   "language": "python",
   "name": "python3"
  },
  "language_info": {
   "codemirror_mode": {
    "name": "ipython",
    "version": 3
   },
   "file_extension": ".py",
   "mimetype": "text/x-python",
   "name": "python",
   "nbconvert_exporter": "python",
   "pygments_lexer": "ipython3",
   "version": "3.9.2"
  }
 },
 "nbformat": 4,
 "nbformat_minor": 5
}
