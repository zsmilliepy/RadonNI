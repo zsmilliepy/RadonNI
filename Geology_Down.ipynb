{
 "cells": [
  {
   "cell_type": "code",
   "execution_count": 1,
   "id": "9d949fc4",
   "metadata": {},
   "outputs": [],
   "source": [
    "# this lets us use the figures interactively\n",
    "%matplotlib notebook\n",
    "\n",
    "import geopandas as gpd\n",
    "import matplotlib.pyplot as plt\n",
    "from cartopy.feature import ShapelyFeature\n",
    "import cartopy.crs as ccrs\n",
    "from cartopy import config\n",
    "import matplotlib.patches as mpatches\n",
    "import matplotlib.lines as mlines\n",
    "\n",
    "plt.ion() # make the plotting interactive\n",
    "\n",
    "# generate matplotlib handles to create a legend of the features we put in our map.\n",
    "def generate_handles(labels, colors, edge='k', alpha=1):\n",
    "    lc = len(colors)  # get the length of the color list\n",
    "    handles = []\n",
    "    for i in range(len(labels)):\n",
    "        handles.append(mpatches.Rectangle((0, 0), 1, 1, facecolor=colors[i % lc], edgecolor=edge, alpha=alpha))\n",
    "    return handles\n",
    "\n",
    "# create a scale bar of length 20 km in the upper right corner of the map\n",
    "# adapted this question: https://stackoverflow.com/q/32333870\n",
    "# answered by SO user Siyh: https://stackoverflow.com/a/35705477\n",
    "def scale_bar(ax, location=(0.92, 0.95)):\n",
    "    llx0, llx1, lly0, lly1 = ax.get_extent(ccrs.PlateCarree())\n",
    "    sbllx = (llx1 + llx0) / 2\n",
    "    sblly = lly0 + (lly1 - lly0) * location[1]\n",
    "\n",
    "    tmc = ccrs.TransverseMercator(sbllx, sblly)\n",
    "    x0, x1, y0, y1 = ax.get_extent(tmc)\n",
    "    sbx = x0 + (x1 - x0) * location[0]\n",
    "    sby = y0 + (y1 - y0) * location[1]\n",
    "\n",
    "    plt.plot([sbx, sbx - 20000], [sby, sby], color='k', linewidth=9, transform=tmc)\n",
    "    plt.plot([sbx, sbx - 10000], [sby, sby], color='k', linewidth=6, transform=tmc)\n",
    "    plt.plot([sbx-10000, sbx - 20000], [sby, sby], color='w', linewidth=6, transform=tmc)\n",
    "\n",
    "    plt.text(sbx, sby-4500, '20 km', transform=tmc, fontsize=8)\n",
    "    plt.text(sbx-12500, sby-4500, '10 km', transform=tmc, fontsize=8)\n",
    "    plt.text(sbx-24500, sby-4500, '0 km', transform=tmc, fontsize=8)"
   ]
  },
  {
   "cell_type": "code",
   "execution_count": 2,
   "id": "0ea20a1f",
   "metadata": {},
   "outputs": [
    {
     "ename": "DriverError",
     "evalue": "data_files/NIbedrocks_Tyrone.shp: No such file or directory",
     "output_type": "error",
     "traceback": [
      "\u001b[1;31m---------------------------------------------------------------------------\u001b[0m",
      "\u001b[1;31mCPLE_OpenFailedError\u001b[0m                      Traceback (most recent call last)",
      "\u001b[1;32mfiona/_shim.pyx\u001b[0m in \u001b[0;36mfiona._shim.gdal_open_vector\u001b[1;34m()\u001b[0m\n",
      "\u001b[1;32mfiona/_err.pyx\u001b[0m in \u001b[0;36mfiona._err.exc_wrap_pointer\u001b[1;34m()\u001b[0m\n",
      "\u001b[1;31mCPLE_OpenFailedError\u001b[0m: data_files/NIbedrocks_Tyrone.shp: No such file or directory",
      "\nDuring handling of the above exception, another exception occurred:\n",
      "\u001b[1;31mDriverError\u001b[0m                               Traceback (most recent call last)",
      "\u001b[1;32m<ipython-input-2-d24715104f83>\u001b[0m in \u001b[0;36m<module>\u001b[1;34m\u001b[0m\n\u001b[0;32m      1\u001b[0m \u001b[1;31m# load the bedrock geology layer of Northern Ireland\u001b[0m\u001b[1;33m\u001b[0m\u001b[1;33m\u001b[0m\u001b[1;33m\u001b[0m\u001b[0m\n\u001b[1;32m----> 2\u001b[1;33m \u001b[0mbedrocks\u001b[0m \u001b[1;33m=\u001b[0m \u001b[0mgpd\u001b[0m\u001b[1;33m.\u001b[0m\u001b[0mread_file\u001b[0m\u001b[1;33m(\u001b[0m\u001b[1;34m'data_files/NIbedrocks_Tyrone.shp'\u001b[0m\u001b[1;33m)\u001b[0m\u001b[1;33m\u001b[0m\u001b[1;33m\u001b[0m\u001b[0m\n\u001b[0m",
      "\u001b[1;32m~\\anaconda3\\envs\\RadonNI\\lib\\site-packages\\geopandas\\io\\file.py\u001b[0m in \u001b[0;36m_read_file\u001b[1;34m(filename, bbox, mask, rows, **kwargs)\u001b[0m\n\u001b[0;32m    158\u001b[0m \u001b[1;33m\u001b[0m\u001b[0m\n\u001b[0;32m    159\u001b[0m     \u001b[1;32mwith\u001b[0m \u001b[0mfiona_env\u001b[0m\u001b[1;33m(\u001b[0m\u001b[1;33m)\u001b[0m\u001b[1;33m:\u001b[0m\u001b[1;33m\u001b[0m\u001b[1;33m\u001b[0m\u001b[0m\n\u001b[1;32m--> 160\u001b[1;33m         \u001b[1;32mwith\u001b[0m \u001b[0mreader\u001b[0m\u001b[1;33m(\u001b[0m\u001b[0mpath_or_bytes\u001b[0m\u001b[1;33m,\u001b[0m \u001b[1;33m**\u001b[0m\u001b[0mkwargs\u001b[0m\u001b[1;33m)\u001b[0m \u001b[1;32mas\u001b[0m \u001b[0mfeatures\u001b[0m\u001b[1;33m:\u001b[0m\u001b[1;33m\u001b[0m\u001b[1;33m\u001b[0m\u001b[0m\n\u001b[0m\u001b[0;32m    161\u001b[0m \u001b[1;33m\u001b[0m\u001b[0m\n\u001b[0;32m    162\u001b[0m             \u001b[1;31m# In a future Fiona release the crs attribute of features will\u001b[0m\u001b[1;33m\u001b[0m\u001b[1;33m\u001b[0m\u001b[1;33m\u001b[0m\u001b[0m\n",
      "\u001b[1;32m~\\anaconda3\\envs\\RadonNI\\lib\\site-packages\\fiona\\env.py\u001b[0m in \u001b[0;36mwrapper\u001b[1;34m(*args, **kwargs)\u001b[0m\n\u001b[0;32m    398\u001b[0m     \u001b[1;32mdef\u001b[0m \u001b[0mwrapper\u001b[0m\u001b[1;33m(\u001b[0m\u001b[1;33m*\u001b[0m\u001b[0margs\u001b[0m\u001b[1;33m,\u001b[0m \u001b[1;33m**\u001b[0m\u001b[0mkwargs\u001b[0m\u001b[1;33m)\u001b[0m\u001b[1;33m:\u001b[0m\u001b[1;33m\u001b[0m\u001b[1;33m\u001b[0m\u001b[0m\n\u001b[0;32m    399\u001b[0m         \u001b[1;32mif\u001b[0m \u001b[0mlocal\u001b[0m\u001b[1;33m.\u001b[0m\u001b[0m_env\u001b[0m\u001b[1;33m:\u001b[0m\u001b[1;33m\u001b[0m\u001b[1;33m\u001b[0m\u001b[0m\n\u001b[1;32m--> 400\u001b[1;33m             \u001b[1;32mreturn\u001b[0m \u001b[0mf\u001b[0m\u001b[1;33m(\u001b[0m\u001b[1;33m*\u001b[0m\u001b[0margs\u001b[0m\u001b[1;33m,\u001b[0m \u001b[1;33m**\u001b[0m\u001b[0mkwargs\u001b[0m\u001b[1;33m)\u001b[0m\u001b[1;33m\u001b[0m\u001b[1;33m\u001b[0m\u001b[0m\n\u001b[0m\u001b[0;32m    401\u001b[0m         \u001b[1;32melse\u001b[0m\u001b[1;33m:\u001b[0m\u001b[1;33m\u001b[0m\u001b[1;33m\u001b[0m\u001b[0m\n\u001b[0;32m    402\u001b[0m             \u001b[1;32mif\u001b[0m \u001b[0misinstance\u001b[0m\u001b[1;33m(\u001b[0m\u001b[0margs\u001b[0m\u001b[1;33m[\u001b[0m\u001b[1;36m0\u001b[0m\u001b[1;33m]\u001b[0m\u001b[1;33m,\u001b[0m \u001b[0mstr\u001b[0m\u001b[1;33m)\u001b[0m\u001b[1;33m:\u001b[0m\u001b[1;33m\u001b[0m\u001b[1;33m\u001b[0m\u001b[0m\n",
      "\u001b[1;32m~\\anaconda3\\envs\\RadonNI\\lib\\site-packages\\fiona\\__init__.py\u001b[0m in \u001b[0;36mopen\u001b[1;34m(fp, mode, driver, schema, crs, encoding, layer, vfs, enabled_drivers, crs_wkt, **kwargs)\u001b[0m\n\u001b[0;32m    254\u001b[0m \u001b[1;33m\u001b[0m\u001b[0m\n\u001b[0;32m    255\u001b[0m         \u001b[1;32mif\u001b[0m \u001b[0mmode\u001b[0m \u001b[1;32min\u001b[0m \u001b[1;33m(\u001b[0m\u001b[1;34m'a'\u001b[0m\u001b[1;33m,\u001b[0m \u001b[1;34m'r'\u001b[0m\u001b[1;33m)\u001b[0m\u001b[1;33m:\u001b[0m\u001b[1;33m\u001b[0m\u001b[1;33m\u001b[0m\u001b[0m\n\u001b[1;32m--> 256\u001b[1;33m             c = Collection(path, mode, driver=driver, encoding=encoding,\n\u001b[0m\u001b[0;32m    257\u001b[0m                            layer=layer, enabled_drivers=enabled_drivers, **kwargs)\n\u001b[0;32m    258\u001b[0m         \u001b[1;32melif\u001b[0m \u001b[0mmode\u001b[0m \u001b[1;33m==\u001b[0m \u001b[1;34m'w'\u001b[0m\u001b[1;33m:\u001b[0m\u001b[1;33m\u001b[0m\u001b[1;33m\u001b[0m\u001b[0m\n",
      "\u001b[1;32m~\\anaconda3\\envs\\RadonNI\\lib\\site-packages\\fiona\\collection.py\u001b[0m in \u001b[0;36m__init__\u001b[1;34m(self, path, mode, driver, schema, crs, encoding, layer, vsi, archive, enabled_drivers, crs_wkt, ignore_fields, ignore_geometry, **kwargs)\u001b[0m\n\u001b[0;32m    160\u001b[0m             \u001b[1;32mif\u001b[0m \u001b[0mself\u001b[0m\u001b[1;33m.\u001b[0m\u001b[0mmode\u001b[0m \u001b[1;33m==\u001b[0m \u001b[1;34m'r'\u001b[0m\u001b[1;33m:\u001b[0m\u001b[1;33m\u001b[0m\u001b[1;33m\u001b[0m\u001b[0m\n\u001b[0;32m    161\u001b[0m                 \u001b[0mself\u001b[0m\u001b[1;33m.\u001b[0m\u001b[0msession\u001b[0m \u001b[1;33m=\u001b[0m \u001b[0mSession\u001b[0m\u001b[1;33m(\u001b[0m\u001b[1;33m)\u001b[0m\u001b[1;33m\u001b[0m\u001b[1;33m\u001b[0m\u001b[0m\n\u001b[1;32m--> 162\u001b[1;33m                 \u001b[0mself\u001b[0m\u001b[1;33m.\u001b[0m\u001b[0msession\u001b[0m\u001b[1;33m.\u001b[0m\u001b[0mstart\u001b[0m\u001b[1;33m(\u001b[0m\u001b[0mself\u001b[0m\u001b[1;33m,\u001b[0m \u001b[1;33m**\u001b[0m\u001b[0mkwargs\u001b[0m\u001b[1;33m)\u001b[0m\u001b[1;33m\u001b[0m\u001b[1;33m\u001b[0m\u001b[0m\n\u001b[0m\u001b[0;32m    163\u001b[0m             \u001b[1;32melif\u001b[0m \u001b[0mself\u001b[0m\u001b[1;33m.\u001b[0m\u001b[0mmode\u001b[0m \u001b[1;32min\u001b[0m \u001b[1;33m(\u001b[0m\u001b[1;34m'a'\u001b[0m\u001b[1;33m,\u001b[0m \u001b[1;34m'w'\u001b[0m\u001b[1;33m)\u001b[0m\u001b[1;33m:\u001b[0m\u001b[1;33m\u001b[0m\u001b[1;33m\u001b[0m\u001b[0m\n\u001b[0;32m    164\u001b[0m                 \u001b[0mself\u001b[0m\u001b[1;33m.\u001b[0m\u001b[0msession\u001b[0m \u001b[1;33m=\u001b[0m \u001b[0mWritingSession\u001b[0m\u001b[1;33m(\u001b[0m\u001b[1;33m)\u001b[0m\u001b[1;33m\u001b[0m\u001b[1;33m\u001b[0m\u001b[0m\n",
      "\u001b[1;32mfiona/ogrext.pyx\u001b[0m in \u001b[0;36mfiona.ogrext.Session.start\u001b[1;34m()\u001b[0m\n",
      "\u001b[1;32mfiona/_shim.pyx\u001b[0m in \u001b[0;36mfiona._shim.gdal_open_vector\u001b[1;34m()\u001b[0m\n",
      "\u001b[1;31mDriverError\u001b[0m: data_files/NIbedrocks_Tyrone.shp: No such file or directory"
     ]
    }
   ],
   "source": [
    "# load the bedrock geology layer of Northern Ireland\n",
    "bedrocks = gpd.read_file('data_files/NIbedrocks_Tyrone.shp')"
   ]
  },
  {
   "cell_type": "code",
   "execution_count": null,
   "id": "8da30186",
   "metadata": {},
   "outputs": [],
   "source": [
    "print(bedrocks.head())"
   ]
  },
  {
   "cell_type": "code",
   "execution_count": null,
   "id": "158e0be2",
   "metadata": {},
   "outputs": [],
   "source": [
    "bedrocks.plot('UnitName')"
   ]
  },
  {
   "cell_type": "code",
   "execution_count": null,
   "id": "81b56ff0",
   "metadata": {},
   "outputs": [],
   "source": [
    "f, ax = plt.subplots(1, figsize=(8, 8))\n",
    "ax = bedrocks.plot(axes=ax)\n",
    "f.suptitle('Northern Ireland Bedrock Geology')\n",
    "plt.show('UnitName')"
   ]
  },
  {
   "cell_type": "code",
   "execution_count": null,
   "id": "e372a95b",
   "metadata": {},
   "outputs": [],
   "source": [
    "bedrocks"
   ]
  },
  {
   "cell_type": "code",
   "execution_count": null,
   "id": "daca2cc8",
   "metadata": {},
   "outputs": [],
   "source": [
    "bedrocks.head"
   ]
  },
  {
   "cell_type": "code",
   "execution_count": null,
   "id": "d522726e",
   "metadata": {},
   "outputs": [],
   "source": [
    "bedrocks[\"UnitName\"].unique()"
   ]
  },
  {
   "cell_type": "code",
   "execution_count": null,
   "id": "fc171b9b",
   "metadata": {},
   "outputs": [],
   "source": [
    "bedrocks.crs"
   ]
  },
  {
   "cell_type": "code",
   "execution_count": null,
   "id": "e6b2dcfb",
   "metadata": {},
   "outputs": [],
   "source": [
    "bedrocks.columns"
   ]
  },
  {
   "cell_type": "code",
   "execution_count": null,
   "id": "697c84d8",
   "metadata": {},
   "outputs": [],
   "source": [
    "rocks = bedrocks['UnitName'].tolist() # Get a list of a particular column (DERMOT)\n",
    "print(rocks)"
   ]
  },
  {
   "cell_type": "code",
   "execution_count": null,
   "id": "853eeac4",
   "metadata": {},
   "outputs": [],
   "source": [
    "bedrocks['UnitName'].value_counts()"
   ]
  },
  {
   "cell_type": "code",
   "execution_count": null,
   "id": "8004dfb7",
   "metadata": {},
   "outputs": [],
   "source": [
    "bedrocks['UnitName'].value_counts(normalize=True)"
   ]
  },
  {
   "cell_type": "code",
   "execution_count": null,
   "id": "ebc80d58",
   "metadata": {},
   "outputs": [],
   "source": [
    "bedrocks['UnitName'].describe()"
   ]
  },
  {
   "cell_type": "code",
   "execution_count": null,
   "id": "c24e73a7",
   "metadata": {},
   "outputs": [],
   "source": [
    "# load the radon data of Northern Ireland\n",
    "radon = gpd.read_file('data_files/RadonNI_Tyrone.shp')"
   ]
  },
  {
   "cell_type": "code",
   "execution_count": null,
   "id": "c56741b9",
   "metadata": {},
   "outputs": [],
   "source": [
    "radon.crs"
   ]
  },
  {
   "cell_type": "code",
   "execution_count": null,
   "id": "55501b09",
   "metadata": {},
   "outputs": [],
   "source": [
    "radon_bedrock = gpd.sjoin(bedrocks, radon, how='inner', lsuffix='left', rsuffix='right') "
   ]
  },
  {
   "cell_type": "code",
   "execution_count": null,
   "id": "a3ec7aaa",
   "metadata": {},
   "outputs": [],
   "source": [
    "radon_bedrock"
   ]
  },
  {
   "cell_type": "code",
   "execution_count": null,
   "id": "c1f9edf7",
   "metadata": {},
   "outputs": [],
   "source": [
    "radon_bedrock.to_file('data_files/radon_bedrock_Tyrone.shp')"
   ]
  },
  {
   "cell_type": "code",
   "execution_count": null,
   "id": "2c0a3502",
   "metadata": {},
   "outputs": [],
   "source": [
    "radon_bedrock = gpd.read_file('data_files/radon_bedrock_Tyrone.shp') # load the radon-counties shapefile"
   ]
  },
  {
   "cell_type": "code",
   "execution_count": null,
   "id": "37b1e393",
   "metadata": {},
   "outputs": [],
   "source": [
    "radon_bedrock"
   ]
  },
  {
   "cell_type": "code",
   "execution_count": null,
   "id": "51c861b9",
   "metadata": {},
   "outputs": [],
   "source": [
    "radon_bedrock.crs"
   ]
  },
  {
   "cell_type": "code",
   "execution_count": null,
   "id": "0d5e64cd",
   "metadata": {},
   "outputs": [],
   "source": [
    "%matplotlib inline\n",
    "\n",
    "radon_bedrock.plot('UnitName')"
   ]
  },
  {
   "cell_type": "code",
   "execution_count": null,
   "id": "81735605",
   "metadata": {},
   "outputs": [],
   "source": [
    "radon_bedrock.plot(column='UnitName', cmap=None, legend=True, figsize=(20, 20))"
   ]
  },
  {
   "cell_type": "code",
   "execution_count": null,
   "id": "4bb9c9a2",
   "metadata": {},
   "outputs": [],
   "source": [
    "print(radon_bedrock.groupby(['UnitName', 'class'])['class'].count()) # summarize the radon distribution by CountyName"
   ]
  },
  {
   "cell_type": "code",
   "execution_count": null,
   "id": "b21412be",
   "metadata": {},
   "outputs": [],
   "source": [
    "radon_mean = radon_bedrock.groupby(['UnitName'])['class'].mean() # summarize the radon distribution by CountyName"
   ]
  },
  {
   "cell_type": "code",
   "execution_count": null,
   "id": "5c6c2d11",
   "metadata": {},
   "outputs": [],
   "source": [
    "radon_bedrock.plot(figsize=(5,5), edgecolor=\"purple\", facecolor=\"None\")"
   ]
  },
  {
   "cell_type": "code",
   "execution_count": null,
   "id": "bf2b14a1",
   "metadata": {},
   "outputs": [],
   "source": [
    "columns_to_divide = ['open', 'close']\n",
    "df[columns_to_divide] = df[columns_to_divide] / df['prev']"
   ]
  }
 ],
 "metadata": {
  "kernelspec": {
   "display_name": "Python 3",
   "language": "python",
   "name": "python3"
  },
  "language_info": {
   "codemirror_mode": {
    "name": "ipython",
    "version": 3
   },
   "file_extension": ".py",
   "mimetype": "text/x-python",
   "name": "python",
   "nbconvert_exporter": "python",
   "pygments_lexer": "ipython3",
   "version": "3.9.2"
  }
 },
 "nbformat": 4,
 "nbformat_minor": 5
}
