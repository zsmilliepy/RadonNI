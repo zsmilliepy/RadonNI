{
 "cells": [
  {
   "cell_type": "code",
   "execution_count": 1,
   "id": "d59c7632",
   "metadata": {},
   "outputs": [],
   "source": [
    "import os\n",
    "import matplotlib.pyplot as plt\n",
    "import matplotlib.lines as mlines\n",
    "from matplotlib.colors import ListedColormap\n",
    "import numpy as np\n",
    "import pandas as pd\n",
    "from shapely.geometry import box\n",
    "import geopandas as gpd\n",
    "import earthpy as et\n",
    "from shapely.geometry import Point, LineString, Polygon"
   ]
  },
  {
   "cell_type": "code",
   "execution_count": 2,
   "id": "091fb2f9",
   "metadata": {},
   "outputs": [],
   "source": [
    "bedrocks = gpd.read_file('data_files/bedrocks.shp')"
   ]
  },
  {
   "cell_type": "code",
   "execution_count": 3,
   "id": "8edeaebc",
   "metadata": {},
   "outputs": [],
   "source": [
    "radon = gpd.read_file('data_files/RadonNI.shp')"
   ]
  },
  {
   "cell_type": "code",
   "execution_count": 5,
   "id": "6a152133",
   "metadata": {},
   "outputs": [
    {
     "name": "stdout",
     "output_type": "stream",
     "text": [
      "<class 'geopandas.geodataframe.GeoDataFrame'>\n",
      "RangeIndex: 14720 entries, 0 to 14719\n",
      "Data columns (total 6 columns):\n",
      " #   Column     Non-Null Count  Dtype   \n",
      "---  ------     --------------  -----   \n",
      " 0   Tile       14720 non-null  object  \n",
      " 1   Class_max  14720 non-null  int64   \n",
      " 2   Version    14720 non-null  object  \n",
      " 3   xcoord     14720 non-null  float64 \n",
      " 4   ycoord     14720 non-null  float64 \n",
      " 5   geometry   14720 non-null  geometry\n",
      "dtypes: float64(2), geometry(1), int64(1), object(2)\n",
      "memory usage: 690.1+ KB\n"
     ]
    }
   ],
   "source": [
    "radon.info() #summary"
   ]
  },
  {
   "cell_type": "code",
   "execution_count": 6,
   "id": "236228a6",
   "metadata": {},
   "outputs": [
    {
     "name": "stdout",
     "output_type": "stream",
     "text": [
      "<class 'geopandas.geodataframe.GeoDataFrame'>\n",
      "RangeIndex: 2263 entries, 0 to 2262\n",
      "Data columns (total 12 columns):\n",
      " #   Column      Non-Null Count  Dtype   \n",
      "---  ------      --------------  -----   \n",
      " 0   MSLINK_0    2263 non-null   int64   \n",
      " 1   LEX         2254 non-null   object  \n",
      " 2   ROCK        2254 non-null   object  \n",
      " 3   LEXICONDES  2254 non-null   object  \n",
      " 4   ROCKDESC    2254 non-null   object  \n",
      " 5   AGE         2055 non-null   object  \n",
      " 6   BGSREF      2263 non-null   int64   \n",
      " 7   BGSTYPE     2254 non-null   object  \n",
      " 8   LEX_ROCK    2254 non-null   object  \n",
      " 9   MAJOR_ROCK  0 non-null      object  \n",
      " 10  DERMOT      2263 non-null   object  \n",
      " 11  geometry    2263 non-null   geometry\n",
      "dtypes: geometry(1), int64(2), object(9)\n",
      "memory usage: 212.3+ KB\n"
     ]
    }
   ],
   "source": [
    "bedrocks.info() #summary"
   ]
  },
  {
   "cell_type": "code",
   "execution_count": null,
   "id": "b43dba7a",
   "metadata": {},
   "outputs": [],
   "source": []
  }
 ],
 "metadata": {
  "kernelspec": {
   "display_name": "Python 3",
   "language": "python",
   "name": "python3"
  },
  "language_info": {
   "codemirror_mode": {
    "name": "ipython",
    "version": 3
   },
   "file_extension": ".py",
   "mimetype": "text/x-python",
   "name": "python",
   "nbconvert_exporter": "python",
   "pygments_lexer": "ipython3",
   "version": "3.9.2"
  }
 },
 "nbformat": 4,
 "nbformat_minor": 5
}
