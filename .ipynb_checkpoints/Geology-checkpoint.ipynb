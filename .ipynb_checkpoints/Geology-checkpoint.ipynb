{
 "cells": [
  {
   "cell_type": "code",
   "execution_count": 1,
   "id": "05181315",
   "metadata": {},
   "outputs": [],
   "source": [
    "import pandas as pd\n",
    "import geopandas as gpd\n",
    "import geoplot as gplt\n",
    "import fiona\n",
    "from shapely.geometry import Point, LineString, Polygon\n",
    "import rtree # Import retree package to upports geospatial join"
   ]
  },
  {
   "cell_type": "code",
   "execution_count": 2,
   "id": "0ea20a1f",
   "metadata": {},
   "outputs": [],
   "source": [
    "bedrocks = gpd.read_file('data_files/bedrocks.shp')"
   ]
  },
  {
   "cell_type": "code",
   "execution_count": null,
   "id": "8da30186",
   "metadata": {},
   "outputs": [],
   "source": []
  }
 ],
 "metadata": {
  "kernelspec": {
   "display_name": "Python 3",
   "language": "python",
   "name": "python3"
  },
  "language_info": {
   "codemirror_mode": {
    "name": "ipython",
    "version": 3
   },
   "file_extension": ".py",
   "mimetype": "text/x-python",
   "name": "python",
   "nbconvert_exporter": "python",
   "pygments_lexer": "ipython3",
   "version": "3.9.2"
  }
 },
 "nbformat": 4,
 "nbformat_minor": 5
}
