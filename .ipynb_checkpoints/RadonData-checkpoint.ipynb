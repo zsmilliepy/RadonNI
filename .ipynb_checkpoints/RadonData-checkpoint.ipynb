{
 "cells": [
  {
   "cell_type": "code",
   "execution_count": 1,
   "id": "3bad6697",
   "metadata": {},
   "outputs": [],
   "source": [
    "import pandas as pd\n",
    "import geopandas as gpd\n",
    "import geoplot as gplt\n",
    "from shapely.geometry import Point, LineString, Polygon\n",
    "import matplotlib.pyplot as plt\n",
    "import cartopy as cp\n",
    "from cartopy.feature import ShapelyFeature\n",
    "import cartopy.crs as ccrs"
   ]
  },
  {
   "cell_type": "code",
   "execution_count": 2,
   "id": "2075d0b9",
   "metadata": {},
   "outputs": [],
   "source": [
    "radon_table = pd.read_csv('data_files\\RadonNI.csv')"
   ]
  },
  {
   "cell_type": "code",
   "execution_count": 3,
   "id": "872ffad6",
   "metadata": {},
   "outputs": [
    {
     "data": {
      "text/html": [
       "<div>\n",
       "<style scoped>\n",
       "    .dataframe tbody tr th:only-of-type {\n",
       "        vertical-align: middle;\n",
       "    }\n",
       "\n",
       "    .dataframe tbody tr th {\n",
       "        vertical-align: top;\n",
       "    }\n",
       "\n",
       "    .dataframe thead th {\n",
       "        text-align: right;\n",
       "    }\n",
       "</style>\n",
       "<table border=\"1\" class=\"dataframe\">\n",
       "  <thead>\n",
       "    <tr style=\"text-align: right;\">\n",
       "      <th></th>\n",
       "      <th>Tile</th>\n",
       "      <th>class</th>\n",
       "      <th>x</th>\n",
       "      <th>y</th>\n",
       "    </tr>\n",
       "  </thead>\n",
       "  <tbody>\n",
       "    <tr>\n",
       "      <th>0</th>\n",
       "      <td>D1053</td>\n",
       "      <td>1</td>\n",
       "      <td>310500</td>\n",
       "      <td>453500</td>\n",
       "    </tr>\n",
       "    <tr>\n",
       "      <th>1</th>\n",
       "      <td>D1153</td>\n",
       "      <td>1</td>\n",
       "      <td>311500</td>\n",
       "      <td>453500</td>\n",
       "    </tr>\n",
       "    <tr>\n",
       "      <th>2</th>\n",
       "      <td>D1253</td>\n",
       "      <td>1</td>\n",
       "      <td>312500</td>\n",
       "      <td>453500</td>\n",
       "    </tr>\n",
       "    <tr>\n",
       "      <th>3</th>\n",
       "      <td>D0952</td>\n",
       "      <td>2</td>\n",
       "      <td>309500</td>\n",
       "      <td>452500</td>\n",
       "    </tr>\n",
       "    <tr>\n",
       "      <th>4</th>\n",
       "      <td>D1052</td>\n",
       "      <td>2</td>\n",
       "      <td>310500</td>\n",
       "      <td>452500</td>\n",
       "    </tr>\n",
       "  </tbody>\n",
       "</table>\n",
       "</div>"
      ],
      "text/plain": [
       "    Tile  class       x       y\n",
       "0  D1053      1  310500  453500\n",
       "1  D1153      1  311500  453500\n",
       "2  D1253      1  312500  453500\n",
       "3  D0952      2  309500  452500\n",
       "4  D1052      2  310500  452500"
      ]
     },
     "execution_count": 3,
     "metadata": {},
     "output_type": "execute_result"
    }
   ],
   "source": [
    "radon_table.head()"
   ]
  },
  {
   "cell_type": "code",
   "execution_count": 4,
   "id": "36411d9f",
   "metadata": {},
   "outputs": [
    {
     "data": {
      "text/plain": [
       "<bound method NDFrame.tail of         Tile  class       x       y\n",
       "0      D1053      1  310500  453500\n",
       "1      D1153      1  311500  453500\n",
       "2      D1253      1  312500  453500\n",
       "3      D0952      2  309500  452500\n",
       "4      D1052      2  310500  452500\n",
       "...      ...    ...     ...     ...\n",
       "14715  J2710      5  327500  310500\n",
       "14716  J2810      4  328500  310500\n",
       "14717  J2910      4  329500  310500\n",
       "14718  J2609      4  326500  309500\n",
       "14719  J2709      4  327500  309500\n",
       "\n",
       "[14720 rows x 4 columns]>"
      ]
     },
     "execution_count": 4,
     "metadata": {},
     "output_type": "execute_result"
    }
   ],
   "source": [
    "radon_table.tail"
   ]
  },
  {
   "cell_type": "code",
   "execution_count": 5,
   "id": "86512dfc",
   "metadata": {},
   "outputs": [
    {
     "data": {
      "text/html": [
       "<div>\n",
       "<style scoped>\n",
       "    .dataframe tbody tr th:only-of-type {\n",
       "        vertical-align: middle;\n",
       "    }\n",
       "\n",
       "    .dataframe tbody tr th {\n",
       "        vertical-align: top;\n",
       "    }\n",
       "\n",
       "    .dataframe thead th {\n",
       "        text-align: right;\n",
       "    }\n",
       "</style>\n",
       "<table border=\"1\" class=\"dataframe\">\n",
       "  <thead>\n",
       "    <tr style=\"text-align: right;\">\n",
       "      <th></th>\n",
       "      <th>Tile</th>\n",
       "      <th>class</th>\n",
       "      <th>x</th>\n",
       "      <th>y</th>\n",
       "    </tr>\n",
       "  </thead>\n",
       "  <tbody>\n",
       "    <tr>\n",
       "      <th>14710</th>\n",
       "      <td>H9010</td>\n",
       "      <td>3</td>\n",
       "      <td>290500</td>\n",
       "      <td>310500</td>\n",
       "    </tr>\n",
       "    <tr>\n",
       "      <th>14711</th>\n",
       "      <td>H9110</td>\n",
       "      <td>3</td>\n",
       "      <td>291500</td>\n",
       "      <td>310500</td>\n",
       "    </tr>\n",
       "    <tr>\n",
       "      <th>14712</th>\n",
       "      <td>J2410</td>\n",
       "      <td>3</td>\n",
       "      <td>324500</td>\n",
       "      <td>310500</td>\n",
       "    </tr>\n",
       "    <tr>\n",
       "      <th>14713</th>\n",
       "      <td>J2510</td>\n",
       "      <td>3</td>\n",
       "      <td>325500</td>\n",
       "      <td>310500</td>\n",
       "    </tr>\n",
       "    <tr>\n",
       "      <th>14714</th>\n",
       "      <td>J2610</td>\n",
       "      <td>5</td>\n",
       "      <td>326500</td>\n",
       "      <td>310500</td>\n",
       "    </tr>\n",
       "    <tr>\n",
       "      <th>14715</th>\n",
       "      <td>J2710</td>\n",
       "      <td>5</td>\n",
       "      <td>327500</td>\n",
       "      <td>310500</td>\n",
       "    </tr>\n",
       "    <tr>\n",
       "      <th>14716</th>\n",
       "      <td>J2810</td>\n",
       "      <td>4</td>\n",
       "      <td>328500</td>\n",
       "      <td>310500</td>\n",
       "    </tr>\n",
       "    <tr>\n",
       "      <th>14717</th>\n",
       "      <td>J2910</td>\n",
       "      <td>4</td>\n",
       "      <td>329500</td>\n",
       "      <td>310500</td>\n",
       "    </tr>\n",
       "    <tr>\n",
       "      <th>14718</th>\n",
       "      <td>J2609</td>\n",
       "      <td>4</td>\n",
       "      <td>326500</td>\n",
       "      <td>309500</td>\n",
       "    </tr>\n",
       "    <tr>\n",
       "      <th>14719</th>\n",
       "      <td>J2709</td>\n",
       "      <td>4</td>\n",
       "      <td>327500</td>\n",
       "      <td>309500</td>\n",
       "    </tr>\n",
       "  </tbody>\n",
       "</table>\n",
       "</div>"
      ],
      "text/plain": [
       "        Tile  class       x       y\n",
       "14710  H9010      3  290500  310500\n",
       "14711  H9110      3  291500  310500\n",
       "14712  J2410      3  324500  310500\n",
       "14713  J2510      3  325500  310500\n",
       "14714  J2610      5  326500  310500\n",
       "14715  J2710      5  327500  310500\n",
       "14716  J2810      4  328500  310500\n",
       "14717  J2910      4  329500  310500\n",
       "14718  J2609      4  326500  309500\n",
       "14719  J2709      4  327500  309500"
      ]
     },
     "execution_count": 5,
     "metadata": {},
     "output_type": "execute_result"
    }
   ],
   "source": [
    "radon_table.tail(10)"
   ]
  },
  {
   "cell_type": "code",
   "execution_count": 6,
   "id": "80286084",
   "metadata": {},
   "outputs": [
    {
     "data": {
      "text/plain": [
       "(14720, 4)"
      ]
     },
     "execution_count": 6,
     "metadata": {},
     "output_type": "execute_result"
    }
   ],
   "source": [
    "radon_table.shape # 868 rows and 6 columns"
   ]
  },
  {
   "cell_type": "code",
   "execution_count": 7,
   "id": "b1c31a90",
   "metadata": {},
   "outputs": [
    {
     "data": {
      "text/plain": [
       "0        1\n",
       "1        1\n",
       "2        1\n",
       "3        2\n",
       "4        2\n",
       "        ..\n",
       "14715    5\n",
       "14716    4\n",
       "14717    4\n",
       "14718    4\n",
       "14719    4\n",
       "Name: class, Length: 14720, dtype: int64"
      ]
     },
     "execution_count": 7,
     "metadata": {},
     "output_type": "execute_result"
    }
   ],
   "source": [
    "radon_table[\"class\"]"
   ]
  },
  {
   "cell_type": "code",
   "execution_count": 8,
   "id": "b3931e73",
   "metadata": {},
   "outputs": [
    {
     "name": "stderr",
     "output_type": "stream",
     "text": [
      "C:\\Users\\asuwa\\anaconda3\\envs\\RadonNI\\lib\\site-packages\\pyproj\\crs\\crs.py:280: FutureWarning: '+init=<authority>:<code>' syntax is deprecated. '<authority>:<code>' is the preferred initialization method. When making the change, be mindful of axis order changes: https://pyproj4.github.io/pyproj/stable/gotchas.html#axis-order-changes-in-proj-6\n",
      "  projstring = _prepare_from_string(projparams)\n"
     ]
    },
    {
     "data": {
      "image/png": "[encoded data removed]",
      "text/plain": [
       "<Figure size 432x288 with 1 Axes>"
      ]
     },
     "metadata": {
      "needs_background": "light"
     },
     "output_type": "display_data"
    }
   ],
   "source": [
    "pts = [Point(row['x'], row['y']) for id, row in radon_table[['x', 'y']].iterrows()]\n",
    "pts = gpd.GeoSeries(pts, crs='+init=epsg:29902')\n",
    "pts.plot();"
   ]
  },
  {
   "cell_type": "code",
   "execution_count": 28,
   "id": "e69a4b62",
   "metadata": {},
   "outputs": [],
   "source": [
    "#radon_table.to_file('RadonNI.shp')"
   ]
  },
  {
   "cell_type": "code",
   "execution_count": 9,
   "id": "96c7d2b1",
   "metadata": {},
   "outputs": [],
   "source": [
    "radon = gpd.read_file('data_files/RadonNI.shp') # load the radon shapefile"
   ]
  },
  {
   "cell_type": "code",
   "execution_count": 10,
   "id": "4b00bf60",
   "metadata": {},
   "outputs": [],
   "source": [
    "counties_orig = gpd.read_file('data_files/Counties.shp') # load the Counties shapefile"
   ]
  },
  {
   "cell_type": "code",
   "execution_count": 11,
   "id": "e6e8c3bc",
   "metadata": {},
   "outputs": [
    {
     "data": {
      "text/plain": [
       "Index(['COUNTY_ID', 'CountyName', 'Area_SqKM', 'OBJECTID', 'geometry'], dtype='object')"
      ]
     },
     "execution_count": 11,
     "metadata": {},
     "output_type": "execute_result"
    }
   ],
   "source": [
    "counties_orig.columns"
   ]
  },
  {
   "cell_type": "code",
   "execution_count": 12,
   "id": "591173be",
   "metadata": {},
   "outputs": [
    {
     "data": {
      "text/html": [
       "<div>\n",
       "<style scoped>\n",
       "    .dataframe tbody tr th:only-of-type {\n",
       "        vertical-align: middle;\n",
       "    }\n",
       "\n",
       "    .dataframe tbody tr th {\n",
       "        vertical-align: top;\n",
       "    }\n",
       "\n",
       "    .dataframe thead th {\n",
       "        text-align: right;\n",
       "    }\n",
       "</style>\n",
       "<table border=\"1\" class=\"dataframe\">\n",
       "  <thead>\n",
       "    <tr style=\"text-align: right;\">\n",
       "      <th></th>\n",
       "      <th>COUNTY_ID</th>\n",
       "      <th>CountyName</th>\n",
       "      <th>Area_SqKM</th>\n",
       "      <th>OBJECTID</th>\n",
       "      <th>geometry</th>\n",
       "    </tr>\n",
       "  </thead>\n",
       "  <tbody>\n",
       "    <tr>\n",
       "      <th>0</th>\n",
       "      <td>6</td>\n",
       "      <td>TYRONE</td>\n",
       "      <td>3265.796622</td>\n",
       "      <td>1</td>\n",
       "      <td>POLYGON ((-7.38177 54.94208, -7.38170 54.94201...</td>\n",
       "    </tr>\n",
       "    <tr>\n",
       "      <th>1</th>\n",
       "      <td>1</td>\n",
       "      <td>ANTRIM</td>\n",
       "      <td>3097.847750</td>\n",
       "      <td>2</td>\n",
       "      <td>MULTIPOLYGON (((-5.95296 54.55222, -5.95298 54...</td>\n",
       "    </tr>\n",
       "    <tr>\n",
       "      <th>2</th>\n",
       "      <td>2</td>\n",
       "      <td>ARMAGH</td>\n",
       "      <td>1327.228438</td>\n",
       "      <td>3</td>\n",
       "      <td>POLYGON ((-6.35398 54.50927, -6.35191 54.50891...</td>\n",
       "    </tr>\n",
       "    <tr>\n",
       "      <th>3</th>\n",
       "      <td>4</td>\n",
       "      <td>FERMANAGH</td>\n",
       "      <td>1850.832538</td>\n",
       "      <td>4</td>\n",
       "      <td>POLYGON ((-7.69417 54.60511, -7.69390 54.60498...</td>\n",
       "    </tr>\n",
       "    <tr>\n",
       "      <th>4</th>\n",
       "      <td>5</td>\n",
       "      <td>LONDONDERRY</td>\n",
       "      <td>2118.316853</td>\n",
       "      <td>5</td>\n",
       "      <td>POLYGON ((-6.66919 55.19899, -6.66918 55.19893...</td>\n",
       "    </tr>\n",
       "  </tbody>\n",
       "</table>\n",
       "</div>"
      ],
      "text/plain": [
       "   COUNTY_ID   CountyName    Area_SqKM  OBJECTID  \\\n",
       "0          6       TYRONE  3265.796622         1   \n",
       "1          1       ANTRIM  3097.847750         2   \n",
       "2          2       ARMAGH  1327.228438         3   \n",
       "3          4    FERMANAGH  1850.832538         4   \n",
       "4          5  LONDONDERRY  2118.316853         5   \n",
       "\n",
       "                                            geometry  \n",
       "0  POLYGON ((-7.38177 54.94208, -7.38170 54.94201...  \n",
       "1  MULTIPOLYGON (((-5.95296 54.55222, -5.95298 54...  \n",
       "2  POLYGON ((-6.35398 54.50927, -6.35191 54.50891...  \n",
       "3  POLYGON ((-7.69417 54.60511, -7.69390 54.60498...  \n",
       "4  POLYGON ((-6.66919 55.19899, -6.66918 55.19893...  "
      ]
     },
     "execution_count": 12,
     "metadata": {},
     "output_type": "execute_result"
    }
   ],
   "source": [
    "counties_orig.head()"
   ]
  },
  {
   "cell_type": "code",
   "execution_count": 13,
   "id": "7ea6f29e",
   "metadata": {},
   "outputs": [
    {
     "data": {
      "text/html": [
       "<div>\n",
       "<style scoped>\n",
       "    .dataframe tbody tr th:only-of-type {\n",
       "        vertical-align: middle;\n",
       "    }\n",
       "\n",
       "    .dataframe tbody tr th {\n",
       "        vertical-align: top;\n",
       "    }\n",
       "\n",
       "    .dataframe thead th {\n",
       "        text-align: right;\n",
       "    }\n",
       "</style>\n",
       "<table border=\"1\" class=\"dataframe\">\n",
       "  <thead>\n",
       "    <tr style=\"text-align: right;\">\n",
       "      <th></th>\n",
       "      <th>COUNTY_ID</th>\n",
       "      <th>CountyName</th>\n",
       "      <th>Area_SqKM</th>\n",
       "      <th>OBJECTID</th>\n",
       "      <th>geometry</th>\n",
       "    </tr>\n",
       "  </thead>\n",
       "  <tbody>\n",
       "    <tr>\n",
       "      <th>0</th>\n",
       "      <td>6</td>\n",
       "      <td>TYRONE</td>\n",
       "      <td>3265.796622</td>\n",
       "      <td>1</td>\n",
       "      <td>POLYGON ((-7.38177 54.94208, -7.38170 54.94201...</td>\n",
       "    </tr>\n",
       "    <tr>\n",
       "      <th>1</th>\n",
       "      <td>1</td>\n",
       "      <td>ANTRIM</td>\n",
       "      <td>3097.847750</td>\n",
       "      <td>2</td>\n",
       "      <td>MULTIPOLYGON (((-5.95296 54.55222, -5.95298 54...</td>\n",
       "    </tr>\n",
       "    <tr>\n",
       "      <th>2</th>\n",
       "      <td>2</td>\n",
       "      <td>ARMAGH</td>\n",
       "      <td>1327.228438</td>\n",
       "      <td>3</td>\n",
       "      <td>POLYGON ((-6.35398 54.50927, -6.35191 54.50891...</td>\n",
       "    </tr>\n",
       "    <tr>\n",
       "      <th>3</th>\n",
       "      <td>4</td>\n",
       "      <td>FERMANAGH</td>\n",
       "      <td>1850.832538</td>\n",
       "      <td>4</td>\n",
       "      <td>POLYGON ((-7.69417 54.60511, -7.69390 54.60498...</td>\n",
       "    </tr>\n",
       "    <tr>\n",
       "      <th>4</th>\n",
       "      <td>5</td>\n",
       "      <td>LONDONDERRY</td>\n",
       "      <td>2118.316853</td>\n",
       "      <td>5</td>\n",
       "      <td>POLYGON ((-6.66919 55.19899, -6.66918 55.19893...</td>\n",
       "    </tr>\n",
       "  </tbody>\n",
       "</table>\n",
       "</div>"
      ],
      "text/plain": [
       "   COUNTY_ID   CountyName    Area_SqKM  OBJECTID  \\\n",
       "0          6       TYRONE  3265.796622         1   \n",
       "1          1       ANTRIM  3097.847750         2   \n",
       "2          2       ARMAGH  1327.228438         3   \n",
       "3          4    FERMANAGH  1850.832538         4   \n",
       "4          5  LONDONDERRY  2118.316853         5   \n",
       "\n",
       "                                            geometry  \n",
       "0  POLYGON ((-7.38177 54.94208, -7.38170 54.94201...  \n",
       "1  MULTIPOLYGON (((-5.95296 54.55222, -5.95298 54...  \n",
       "2  POLYGON ((-6.35398 54.50927, -6.35191 54.50891...  \n",
       "3  POLYGON ((-7.69417 54.60511, -7.69390 54.60498...  \n",
       "4  POLYGON ((-6.66919 55.19899, -6.66918 55.19893...  "
      ]
     },
     "execution_count": 13,
     "metadata": {},
     "output_type": "execute_result"
    }
   ],
   "source": [
    "counties_orig.head()"
   ]
  },
  {
   "cell_type": "code",
   "execution_count": 14,
   "id": "f999d548",
   "metadata": {},
   "outputs": [
    {
     "name": "stdout",
     "output_type": "stream",
     "text": [
      "['TYRONE', 'ANTRIM', 'ARMAGH', 'FERMANAGH', 'LONDONDERRY', 'DOWN']\n"
     ]
    }
   ],
   "source": [
    "divisions = counties_orig['CountyName'].tolist() # Get a list of a particular column (Counties)\n",
    "print(divisions)"
   ]
  },
  {
   "cell_type": "code",
   "execution_count": 15,
   "id": "55a44866",
   "metadata": {},
   "outputs": [
    {
     "data": {
      "text/plain": [
       "<AxesSubplot:>"
      ]
     },
     "execution_count": 15,
     "metadata": {},
     "output_type": "execute_result"
    },
    {
     "data": {
      "image/png": "[encoded data removed]",
      "text/plain": [
       "<Figure size 432x288 with 1 Axes>"
      ]
     },
     "metadata": {
      "needs_background": "light"
     },
     "output_type": "display_data"
    }
   ],
   "source": [
    "counties_orig.plot()"
   ]
  },
  {
   "cell_type": "code",
   "execution_count": 16,
   "id": "41dfd43d",
   "metadata": {},
   "outputs": [
    {
     "name": "stderr",
     "output_type": "stream",
     "text": [
      "C:\\Users\\asuwa\\anaconda3\\envs\\RadonNI\\lib\\site-packages\\geopandas\\plotting.py:634: FutureWarning: 'axes' is deprecated, please use 'ax' instead (for consistency with pandas)\n",
      "  warnings.warn(\n"
     ]
    },
    {
     "data": {
      "image/png": "[encoded data removed]",
      "text/plain": [
       "<Figure size 864x864 with 1 Axes>"
      ]
     },
     "metadata": {
      "needs_background": "light"
     },
     "output_type": "display_data"
    }
   ],
   "source": [
    "f, ax = plt.subplots(1, figsize=(12, 12))\n",
    "ax = counties_orig.plot(axes=ax)\n",
    "f.suptitle('Northern Ireland Administrative divisions')\n",
    "plt.show()"
   ]
  },
  {
   "cell_type": "code",
   "execution_count": 17,
   "id": "38edfa01",
   "metadata": {},
   "outputs": [
    {
     "data": {
      "text/plain": [
       "<Projected CRS: EPSG:29902>\n",
       "Name: TM65 / Irish Grid\n",
       "Axis Info [cartesian]:\n",
       "- E[east]: Easting (metre)\n",
       "- N[north]: Northing (metre)\n",
       "Area of Use:\n",
       "- name: Ireland - onshore.\n",
       "- bounds: (-10.56, 51.39, -5.93, 55.43)\n",
       "Coordinate Operation:\n",
       "- name: Irish Grid\n",
       "- method: Transverse Mercator\n",
       "Datum: TM65\n",
       "- Ellipsoid: Airy Modified 1849\n",
       "- Prime Meridian: Greenwich"
      ]
     },
     "execution_count": 17,
     "metadata": {},
     "output_type": "execute_result"
    }
   ],
   "source": [
    "radon.crs"
   ]
  },
  {
   "cell_type": "code",
   "execution_count": 18,
   "id": "56acfbb2",
   "metadata": {},
   "outputs": [
    {
     "data": {
      "text/plain": [
       "<Geographic 2D CRS: EPSG:4326>\n",
       "Name: WGS 84\n",
       "Axis Info [ellipsoidal]:\n",
       "- Lat[north]: Geodetic latitude (degree)\n",
       "- Lon[east]: Geodetic longitude (degree)\n",
       "Area of Use:\n",
       "- name: World.\n",
       "- bounds: (-180.0, -90.0, 180.0, 90.0)\n",
       "Datum: World Geodetic System 1984\n",
       "- Ellipsoid: WGS 84\n",
       "- Prime Meridian: Greenwich"
      ]
     },
     "execution_count": 18,
     "metadata": {},
     "output_type": "execute_result"
    }
   ],
   "source": [
    "counties_orig.crs"
   ]
  },
  {
   "cell_type": "code",
   "execution_count": 19,
   "id": "fef700fd",
   "metadata": {},
   "outputs": [],
   "source": [
    "counties = counties_orig.to_crs(epsg=29902)"
   ]
  },
  {
   "cell_type": "code",
   "execution_count": 20,
   "id": "5dc0eb86",
   "metadata": {},
   "outputs": [
    {
     "name": "stderr",
     "output_type": "stream",
     "text": [
      "C:\\Users\\asuwa\\anaconda3\\envs\\RadonNI\\lib\\site-packages\\geopandas\\plotting.py:634: FutureWarning: 'axes' is deprecated, please use 'ax' instead (for consistency with pandas)\n",
      "  warnings.warn(\n"
     ]
    },
    {
     "data": {
      "image/png": "[encoded data removed]",
      "text/plain": [
       "<Figure size 864x864 with 1 Axes>"
      ]
     },
     "metadata": {
      "needs_background": "light"
     },
     "output_type": "display_data"
    }
   ],
   "source": [
    "f, ax = plt.subplots(1, figsize=(12, 12))\n",
    "ax = counties.plot(axes=ax)\n",
    "f.suptitle('Northern Ireland Administrative divisions')\n",
    "plt.show()"
   ]
  },
  {
   "cell_type": "markdown",
   "id": "00fdd80d",
   "metadata": {},
   "source": [
    "# Note the difference in the X, Y values above."
   ]
  },
  {
   "cell_type": "code",
   "execution_count": 21,
   "id": "09d12f91",
   "metadata": {},
   "outputs": [
    {
     "name": "stdout",
     "output_type": "stream",
     "text": [
      "True\n"
     ]
    }
   ],
   "source": [
    "print(radon.crs == counties.crs) "
   ]
  },
  {
   "cell_type": "code",
   "execution_count": 22,
   "id": "ed6f47ca",
   "metadata": {},
   "outputs": [],
   "source": [
    "radon_counties = gpd.sjoin(counties, radon, how='inner', lsuffix='left', rsuffix='right') "
   ]
  },
  {
   "cell_type": "code",
   "execution_count": 23,
   "id": "44ebb8b4",
   "metadata": {},
   "outputs": [
    {
     "data": {
      "text/html": [
       "<div>\n",
       "<style scoped>\n",
       "    .dataframe tbody tr th:only-of-type {\n",
       "        vertical-align: middle;\n",
       "    }\n",
       "\n",
       "    .dataframe tbody tr th {\n",
       "        vertical-align: top;\n",
       "    }\n",
       "\n",
       "    .dataframe thead th {\n",
       "        text-align: right;\n",
       "    }\n",
       "</style>\n",
       "<table border=\"1\" class=\"dataframe\">\n",
       "  <thead>\n",
       "    <tr style=\"text-align: right;\">\n",
       "      <th></th>\n",
       "      <th>COUNTY_ID</th>\n",
       "      <th>CountyName</th>\n",
       "      <th>Area_SqKM</th>\n",
       "      <th>OBJECTID</th>\n",
       "      <th>geometry</th>\n",
       "      <th>index_right</th>\n",
       "      <th>Tile</th>\n",
       "      <th>Class_max</th>\n",
       "      <th>Version</th>\n",
       "      <th>xcoord</th>\n",
       "      <th>ycoord</th>\n",
       "    </tr>\n",
       "  </thead>\n",
       "  <tbody>\n",
       "    <tr>\n",
       "      <th>0</th>\n",
       "      <td>6</td>\n",
       "      <td>TYRONE</td>\n",
       "      <td>3265.796622</td>\n",
       "      <td>1</td>\n",
       "      <td>POLYGON ((239669.128 410673.862, 239674.096 41...</td>\n",
       "      <td>11267</td>\n",
       "      <td>H7546</td>\n",
       "      <td>4</td>\n",
       "      <td>Radon_Atlas_NI_V1</td>\n",
       "      <td>275500.0</td>\n",
       "      <td>346500.0</td>\n",
       "    </tr>\n",
       "    <tr>\n",
       "      <th>0</th>\n",
       "      <td>6</td>\n",
       "      <td>TYRONE</td>\n",
       "      <td>3265.796622</td>\n",
       "      <td>1</td>\n",
       "      <td>POLYGON ((239669.128 410673.862, 239674.096 41...</td>\n",
       "      <td>11268</td>\n",
       "      <td>H7646</td>\n",
       "      <td>3</td>\n",
       "      <td>Radon_Atlas_NI_V1</td>\n",
       "      <td>276500.0</td>\n",
       "      <td>346500.0</td>\n",
       "    </tr>\n",
       "    <tr>\n",
       "      <th>0</th>\n",
       "      <td>6</td>\n",
       "      <td>TYRONE</td>\n",
       "      <td>3265.796622</td>\n",
       "      <td>1</td>\n",
       "      <td>POLYGON ((239669.128 410673.862, 239674.096 41...</td>\n",
       "      <td>11109</td>\n",
       "      <td>H7647</td>\n",
       "      <td>2</td>\n",
       "      <td>Radon_Atlas_NI_V1</td>\n",
       "      <td>276500.0</td>\n",
       "      <td>347500.0</td>\n",
       "    </tr>\n",
       "    <tr>\n",
       "      <th>0</th>\n",
       "      <td>6</td>\n",
       "      <td>TYRONE</td>\n",
       "      <td>3265.796622</td>\n",
       "      <td>1</td>\n",
       "      <td>POLYGON ((239669.128 410673.862, 239674.096 41...</td>\n",
       "      <td>11723</td>\n",
       "      <td>H7343</td>\n",
       "      <td>3</td>\n",
       "      <td>Radon_Atlas_NI_V1</td>\n",
       "      <td>273500.0</td>\n",
       "      <td>343500.0</td>\n",
       "    </tr>\n",
       "    <tr>\n",
       "      <th>0</th>\n",
       "      <td>6</td>\n",
       "      <td>TYRONE</td>\n",
       "      <td>3265.796622</td>\n",
       "      <td>1</td>\n",
       "      <td>POLYGON ((239669.128 410673.862, 239674.096 41...</td>\n",
       "      <td>11724</td>\n",
       "      <td>H7443</td>\n",
       "      <td>3</td>\n",
       "      <td>Radon_Atlas_NI_V1</td>\n",
       "      <td>274500.0</td>\n",
       "      <td>343500.0</td>\n",
       "    </tr>\n",
       "    <tr>\n",
       "      <th>...</th>\n",
       "      <td>...</td>\n",
       "      <td>...</td>\n",
       "      <td>...</td>\n",
       "      <td>...</td>\n",
       "      <td>...</td>\n",
       "      <td>...</td>\n",
       "      <td>...</td>\n",
       "      <td>...</td>\n",
       "      <td>...</td>\n",
       "      <td>...</td>\n",
       "      <td>...</td>\n",
       "    </tr>\n",
       "    <tr>\n",
       "      <th>5</th>\n",
       "      <td>3</td>\n",
       "      <td>DOWN</td>\n",
       "      <td>2491.238606</td>\n",
       "      <td>6</td>\n",
       "      <td>MULTIPOLYGON (((325844.568 312608.674, 325840....</td>\n",
       "      <td>8630</td>\n",
       "      <td>J2662</td>\n",
       "      <td>1</td>\n",
       "      <td>Radon_Atlas_NI_V1</td>\n",
       "      <td>326500.0</td>\n",
       "      <td>362500.0</td>\n",
       "    </tr>\n",
       "    <tr>\n",
       "      <th>5</th>\n",
       "      <td>3</td>\n",
       "      <td>DOWN</td>\n",
       "      <td>2491.238606</td>\n",
       "      <td>6</td>\n",
       "      <td>MULTIPOLYGON (((325844.568 312608.674, 325840....</td>\n",
       "      <td>8631</td>\n",
       "      <td>J2762</td>\n",
       "      <td>1</td>\n",
       "      <td>Radon_Atlas_NI_V1</td>\n",
       "      <td>327500.0</td>\n",
       "      <td>362500.0</td>\n",
       "    </tr>\n",
       "    <tr>\n",
       "      <th>5</th>\n",
       "      <td>3</td>\n",
       "      <td>DOWN</td>\n",
       "      <td>2491.238606</td>\n",
       "      <td>6</td>\n",
       "      <td>MULTIPOLYGON (((325844.568 312608.674, 325840....</td>\n",
       "      <td>8612</td>\n",
       "      <td>J0862</td>\n",
       "      <td>3</td>\n",
       "      <td>Radon_Atlas_NI_V1</td>\n",
       "      <td>308500.0</td>\n",
       "      <td>362500.0</td>\n",
       "    </tr>\n",
       "    <tr>\n",
       "      <th>5</th>\n",
       "      <td>3</td>\n",
       "      <td>DOWN</td>\n",
       "      <td>2491.238606</td>\n",
       "      <td>6</td>\n",
       "      <td>MULTIPOLYGON (((325844.568 312608.674, 325840....</td>\n",
       "      <td>8445</td>\n",
       "      <td>J0863</td>\n",
       "      <td>1</td>\n",
       "      <td>Radon_Atlas_NI_V1</td>\n",
       "      <td>308500.0</td>\n",
       "      <td>363500.0</td>\n",
       "    </tr>\n",
       "    <tr>\n",
       "      <th>5</th>\n",
       "      <td>3</td>\n",
       "      <td>DOWN</td>\n",
       "      <td>2491.238606</td>\n",
       "      <td>6</td>\n",
       "      <td>MULTIPOLYGON (((325844.568 312608.674, 325840....</td>\n",
       "      <td>8444</td>\n",
       "      <td>J0763</td>\n",
       "      <td>1</td>\n",
       "      <td>Radon_Atlas_NI_V1</td>\n",
       "      <td>307500.0</td>\n",
       "      <td>363500.0</td>\n",
       "    </tr>\n",
       "  </tbody>\n",
       "</table>\n",
       "<p>13855 rows × 11 columns</p>\n",
       "</div>"
      ],
      "text/plain": [
       "    COUNTY_ID CountyName    Area_SqKM  OBJECTID  \\\n",
       "0           6     TYRONE  3265.796622         1   \n",
       "0           6     TYRONE  3265.796622         1   \n",
       "0           6     TYRONE  3265.796622         1   \n",
       "0           6     TYRONE  3265.796622         1   \n",
       "0           6     TYRONE  3265.796622         1   \n",
       "..        ...        ...          ...       ...   \n",
       "5           3       DOWN  2491.238606         6   \n",
       "5           3       DOWN  2491.238606         6   \n",
       "5           3       DOWN  2491.238606         6   \n",
       "5           3       DOWN  2491.238606         6   \n",
       "5           3       DOWN  2491.238606         6   \n",
       "\n",
       "                                             geometry  index_right   Tile  \\\n",
       "0   POLYGON ((239669.128 410673.862, 239674.096 41...        11267  H7546   \n",
       "0   POLYGON ((239669.128 410673.862, 239674.096 41...        11268  H7646   \n",
       "0   POLYGON ((239669.128 410673.862, 239674.096 41...        11109  H7647   \n",
       "0   POLYGON ((239669.128 410673.862, 239674.096 41...        11723  H7343   \n",
       "0   POLYGON ((239669.128 410673.862, 239674.096 41...        11724  H7443   \n",
       "..                                                ...          ...    ...   \n",
       "5   MULTIPOLYGON (((325844.568 312608.674, 325840....         8630  J2662   \n",
       "5   MULTIPOLYGON (((325844.568 312608.674, 325840....         8631  J2762   \n",
       "5   MULTIPOLYGON (((325844.568 312608.674, 325840....         8612  J0862   \n",
       "5   MULTIPOLYGON (((325844.568 312608.674, 325840....         8445  J0863   \n",
       "5   MULTIPOLYGON (((325844.568 312608.674, 325840....         8444  J0763   \n",
       "\n",
       "    Class_max            Version    xcoord    ycoord  \n",
       "0           4  Radon_Atlas_NI_V1  275500.0  346500.0  \n",
       "0           3  Radon_Atlas_NI_V1  276500.0  346500.0  \n",
       "0           2  Radon_Atlas_NI_V1  276500.0  347500.0  \n",
       "0           3  Radon_Atlas_NI_V1  273500.0  343500.0  \n",
       "0           3  Radon_Atlas_NI_V1  274500.0  343500.0  \n",
       "..        ...                ...       ...       ...  \n",
       "5           1  Radon_Atlas_NI_V1  326500.0  362500.0  \n",
       "5           1  Radon_Atlas_NI_V1  327500.0  362500.0  \n",
       "5           3  Radon_Atlas_NI_V1  308500.0  362500.0  \n",
       "5           1  Radon_Atlas_NI_V1  308500.0  363500.0  \n",
       "5           1  Radon_Atlas_NI_V1  307500.0  363500.0  \n",
       "\n",
       "[13855 rows x 11 columns]"
      ]
     },
     "execution_count": 23,
     "metadata": {},
     "output_type": "execute_result"
    }
   ],
   "source": [
    "radon_counties"
   ]
  },
  {
   "cell_type": "code",
   "execution_count": 24,
   "id": "e259327b",
   "metadata": {},
   "outputs": [
    {
     "data": {
      "text/plain": [
       "(13855, 11)"
      ]
     },
     "execution_count": 24,
     "metadata": {},
     "output_type": "execute_result"
    }
   ],
   "source": [
    "radon_counties.shape"
   ]
  },
  {
   "cell_type": "code",
   "execution_count": 25,
   "id": "a930bd52",
   "metadata": {},
   "outputs": [
    {
     "name": "stdout",
     "output_type": "stream",
     "text": [
      "<class 'geopandas.geodataframe.GeoDataFrame'>\n",
      "Int64Index: 13855 entries, 0 to 5\n",
      "Data columns (total 11 columns):\n",
      " #   Column       Non-Null Count  Dtype   \n",
      "---  ------       --------------  -----   \n",
      " 0   COUNTY_ID    13855 non-null  int64   \n",
      " 1   CountyName   13855 non-null  object  \n",
      " 2   Area_SqKM    13855 non-null  float64 \n",
      " 3   OBJECTID     13855 non-null  int64   \n",
      " 4   geometry     13855 non-null  geometry\n",
      " 5   index_right  13855 non-null  int64   \n",
      " 6   Tile         13855 non-null  object  \n",
      " 7   Class_max    13855 non-null  int64   \n",
      " 8   Version      13855 non-null  object  \n",
      " 9   xcoord       13855 non-null  float64 \n",
      " 10  ycoord       13855 non-null  float64 \n",
      "dtypes: float64(3), geometry(1), int64(4), object(3)\n",
      "memory usage: 1.3+ MB\n"
     ]
    }
   ],
   "source": [
    "radon_counties.info() #summary"
   ]
  },
  {
   "cell_type": "code",
   "execution_count": 26,
   "id": "12fa13dd",
   "metadata": {},
   "outputs": [],
   "source": [
    "#radon_counties.to_file('radon_counties.shp')"
   ]
  },
  {
   "cell_type": "code",
   "execution_count": null,
   "id": "610966bd",
   "metadata": {},
   "outputs": [],
   "source": []
  }
 ],
 "metadata": {
  "kernelspec": {
   "display_name": "Python 3",
   "language": "python",
   "name": "python3"
  },
  "language_info": {
   "codemirror_mode": {
    "name": "ipython",
    "version": 3
   },
   "file_extension": ".py",
   "mimetype": "text/x-python",
   "name": "python",
   "nbconvert_exporter": "python",
   "pygments_lexer": "ipython3",
   "version": "3.9.2"
  }
 },
 "nbformat": 4,
 "nbformat_minor": 5
}
