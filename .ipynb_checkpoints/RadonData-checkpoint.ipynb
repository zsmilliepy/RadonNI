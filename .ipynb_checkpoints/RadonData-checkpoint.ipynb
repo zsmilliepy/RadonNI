{
 "cells": [
  {
   "cell_type": "markdown",
   "id": "4da2aa37",
   "metadata": {},
   "source": [
    "Radon Data of Northern Ireland.\n",
    "Source of data: Environmental Protection Agency, Ireland (EPA) Geoportal https://gis.epa.ie/Home"
   ]
  },
  {
   "cell_type": "code",
   "execution_count": 1,
   "id": "31c43a98",
   "metadata": {},
   "outputs": [],
   "source": [
    "import pandas as pd\n",
    "import geopandas as gpd\n",
    "import geoplot as gplt"
   ]
  },
  {
   "cell_type": "code",
   "execution_count": 2,
   "id": "aa733981",
   "metadata": {},
   "outputs": [],
   "source": [
    "from shapely.geometry import Point, LineString, Polygon"
   ]
  },
  {
   "cell_type": "code",
   "execution_count": 3,
   "id": "40219b6c",
   "metadata": {},
   "outputs": [],
   "source": [
    "import rtree # Import retree package to upports geospatial join¶"
   ]
  },
  {
   "cell_type": "code",
   "execution_count": 4,
   "id": "ca34df5b",
   "metadata": {},
   "outputs": [],
   "source": [
    "radon = pd.read_csv('data_files\\RadonNI.csv')"
   ]
  },
  {
   "cell_type": "markdown",
   "id": "8eec4d2a",
   "metadata": {},
   "source": [
    "View the DataFrame\n",
    "Data Source: https://www.bgs.ac.uk/datasets/radon-data-indicative-atlas-of-radon/"
   ]
  },
  {
   "cell_type": "code",
   "execution_count": 5,
   "id": "5816602b",
   "metadata": {},
   "outputs": [
    {
     "data": {
      "text/html": [
       "<div>\n",
       "<style scoped>\n",
       "    .dataframe tbody tr th:only-of-type {\n",
       "        vertical-align: middle;\n",
       "    }\n",
       "\n",
       "    .dataframe tbody tr th {\n",
       "        vertical-align: top;\n",
       "    }\n",
       "\n",
       "    .dataframe thead th {\n",
       "        text-align: right;\n",
       "    }\n",
       "</style>\n",
       "<table border=\"1\" class=\"dataframe\">\n",
       "  <thead>\n",
       "    <tr style=\"text-align: right;\">\n",
       "      <th></th>\n",
       "      <th>Tile</th>\n",
       "      <th>class</th>\n",
       "      <th>x</th>\n",
       "      <th>y</th>\n",
       "    </tr>\n",
       "  </thead>\n",
       "  <tbody>\n",
       "    <tr>\n",
       "      <th>0</th>\n",
       "      <td>D1053</td>\n",
       "      <td>1</td>\n",
       "      <td>310500</td>\n",
       "      <td>453500</td>\n",
       "    </tr>\n",
       "    <tr>\n",
       "      <th>1</th>\n",
       "      <td>D1153</td>\n",
       "      <td>1</td>\n",
       "      <td>311500</td>\n",
       "      <td>453500</td>\n",
       "    </tr>\n",
       "    <tr>\n",
       "      <th>2</th>\n",
       "      <td>D1253</td>\n",
       "      <td>1</td>\n",
       "      <td>312500</td>\n",
       "      <td>453500</td>\n",
       "    </tr>\n",
       "    <tr>\n",
       "      <th>3</th>\n",
       "      <td>D0952</td>\n",
       "      <td>2</td>\n",
       "      <td>309500</td>\n",
       "      <td>452500</td>\n",
       "    </tr>\n",
       "    <tr>\n",
       "      <th>4</th>\n",
       "      <td>D1052</td>\n",
       "      <td>2</td>\n",
       "      <td>310500</td>\n",
       "      <td>452500</td>\n",
       "    </tr>\n",
       "  </tbody>\n",
       "</table>\n",
       "</div>"
      ],
      "text/plain": [
       "    Tile  class       x       y\n",
       "0  D1053      1  310500  453500\n",
       "1  D1153      1  311500  453500\n",
       "2  D1253      1  312500  453500\n",
       "3  D0952      2  309500  452500\n",
       "4  D1052      2  310500  452500"
      ]
     },
     "execution_count": 5,
     "metadata": {},
     "output_type": "execute_result"
    }
   ],
   "source": [
    "radon.head()"
   ]
  },
  {
   "cell_type": "code",
   "execution_count": 6,
   "id": "75325bc5",
   "metadata": {},
   "outputs": [
    {
     "data": {
      "text/plain": [
       "<bound method NDFrame.tail of         Tile  class       x       y\n",
       "0      D1053      1  310500  453500\n",
       "1      D1153      1  311500  453500\n",
       "2      D1253      1  312500  453500\n",
       "3      D0952      2  309500  452500\n",
       "4      D1052      2  310500  452500\n",
       "...      ...    ...     ...     ...\n",
       "14715  J2710      5  327500  310500\n",
       "14716  J2810      4  328500  310500\n",
       "14717  J2910      4  329500  310500\n",
       "14718  J2609      4  326500  309500\n",
       "14719  J2709      4  327500  309500\n",
       "\n",
       "[14720 rows x 4 columns]>"
      ]
     },
     "execution_count": 6,
     "metadata": {},
     "output_type": "execute_result"
    }
   ],
   "source": [
    "radon.tail"
   ]
  },
  {
   "cell_type": "code",
   "execution_count": 7,
   "id": "2e7ced74",
   "metadata": {},
   "outputs": [
    {
     "data": {
      "text/html": [
       "<div>\n",
       "<style scoped>\n",
       "    .dataframe tbody tr th:only-of-type {\n",
       "        vertical-align: middle;\n",
       "    }\n",
       "\n",
       "    .dataframe tbody tr th {\n",
       "        vertical-align: top;\n",
       "    }\n",
       "\n",
       "    .dataframe thead th {\n",
       "        text-align: right;\n",
       "    }\n",
       "</style>\n",
       "<table border=\"1\" class=\"dataframe\">\n",
       "  <thead>\n",
       "    <tr style=\"text-align: right;\">\n",
       "      <th></th>\n",
       "      <th>Tile</th>\n",
       "      <th>class</th>\n",
       "      <th>x</th>\n",
       "      <th>y</th>\n",
       "    </tr>\n",
       "  </thead>\n",
       "  <tbody>\n",
       "    <tr>\n",
       "      <th>14710</th>\n",
       "      <td>H9010</td>\n",
       "      <td>3</td>\n",
       "      <td>290500</td>\n",
       "      <td>310500</td>\n",
       "    </tr>\n",
       "    <tr>\n",
       "      <th>14711</th>\n",
       "      <td>H9110</td>\n",
       "      <td>3</td>\n",
       "      <td>291500</td>\n",
       "      <td>310500</td>\n",
       "    </tr>\n",
       "    <tr>\n",
       "      <th>14712</th>\n",
       "      <td>J2410</td>\n",
       "      <td>3</td>\n",
       "      <td>324500</td>\n",
       "      <td>310500</td>\n",
       "    </tr>\n",
       "    <tr>\n",
       "      <th>14713</th>\n",
       "      <td>J2510</td>\n",
       "      <td>3</td>\n",
       "      <td>325500</td>\n",
       "      <td>310500</td>\n",
       "    </tr>\n",
       "    <tr>\n",
       "      <th>14714</th>\n",
       "      <td>J2610</td>\n",
       "      <td>5</td>\n",
       "      <td>326500</td>\n",
       "      <td>310500</td>\n",
       "    </tr>\n",
       "    <tr>\n",
       "      <th>14715</th>\n",
       "      <td>J2710</td>\n",
       "      <td>5</td>\n",
       "      <td>327500</td>\n",
       "      <td>310500</td>\n",
       "    </tr>\n",
       "    <tr>\n",
       "      <th>14716</th>\n",
       "      <td>J2810</td>\n",
       "      <td>4</td>\n",
       "      <td>328500</td>\n",
       "      <td>310500</td>\n",
       "    </tr>\n",
       "    <tr>\n",
       "      <th>14717</th>\n",
       "      <td>J2910</td>\n",
       "      <td>4</td>\n",
       "      <td>329500</td>\n",
       "      <td>310500</td>\n",
       "    </tr>\n",
       "    <tr>\n",
       "      <th>14718</th>\n",
       "      <td>J2609</td>\n",
       "      <td>4</td>\n",
       "      <td>326500</td>\n",
       "      <td>309500</td>\n",
       "    </tr>\n",
       "    <tr>\n",
       "      <th>14719</th>\n",
       "      <td>J2709</td>\n",
       "      <td>4</td>\n",
       "      <td>327500</td>\n",
       "      <td>309500</td>\n",
       "    </tr>\n",
       "  </tbody>\n",
       "</table>\n",
       "</div>"
      ],
      "text/plain": [
       "        Tile  class       x       y\n",
       "14710  H9010      3  290500  310500\n",
       "14711  H9110      3  291500  310500\n",
       "14712  J2410      3  324500  310500\n",
       "14713  J2510      3  325500  310500\n",
       "14714  J2610      5  326500  310500\n",
       "14715  J2710      5  327500  310500\n",
       "14716  J2810      4  328500  310500\n",
       "14717  J2910      4  329500  310500\n",
       "14718  J2609      4  326500  309500\n",
       "14719  J2709      4  327500  309500"
      ]
     },
     "execution_count": 7,
     "metadata": {},
     "output_type": "execute_result"
    }
   ],
   "source": [
    "radon.tail(10)"
   ]
  },
  {
   "cell_type": "code",
   "execution_count": 8,
   "id": "6fda00f3",
   "metadata": {},
   "outputs": [
    {
     "data": {
      "text/plain": [
       "0        1\n",
       "1        1\n",
       "2        1\n",
       "3        2\n",
       "4        2\n",
       "        ..\n",
       "14715    5\n",
       "14716    4\n",
       "14717    4\n",
       "14718    4\n",
       "14719    4\n",
       "Name: class, Length: 14720, dtype: int64"
      ]
     },
     "execution_count": 8,
     "metadata": {},
     "output_type": "execute_result"
    }
   ],
   "source": [
    "radon[\"class\"]"
   ]
  },
  {
   "cell_type": "code",
   "execution_count": 9,
   "id": "fbbe86a2",
   "metadata": {},
   "outputs": [
    {
     "data": {
      "text/html": [
       "<div>\n",
       "<style scoped>\n",
       "    .dataframe tbody tr th:only-of-type {\n",
       "        vertical-align: middle;\n",
       "    }\n",
       "\n",
       "    .dataframe tbody tr th {\n",
       "        vertical-align: top;\n",
       "    }\n",
       "\n",
       "    .dataframe thead th {\n",
       "        text-align: right;\n",
       "    }\n",
       "</style>\n",
       "<table border=\"1\" class=\"dataframe\">\n",
       "  <thead>\n",
       "    <tr style=\"text-align: right;\">\n",
       "      <th></th>\n",
       "      <th>x</th>\n",
       "      <th>y</th>\n",
       "    </tr>\n",
       "  </thead>\n",
       "  <tbody>\n",
       "    <tr>\n",
       "      <th>0</th>\n",
       "      <td>310500</td>\n",
       "      <td>453500</td>\n",
       "    </tr>\n",
       "    <tr>\n",
       "      <th>1</th>\n",
       "      <td>311500</td>\n",
       "      <td>453500</td>\n",
       "    </tr>\n",
       "    <tr>\n",
       "      <th>2</th>\n",
       "      <td>312500</td>\n",
       "      <td>453500</td>\n",
       "    </tr>\n",
       "    <tr>\n",
       "      <th>3</th>\n",
       "      <td>309500</td>\n",
       "      <td>452500</td>\n",
       "    </tr>\n",
       "    <tr>\n",
       "      <th>4</th>\n",
       "      <td>310500</td>\n",
       "      <td>452500</td>\n",
       "    </tr>\n",
       "    <tr>\n",
       "      <th>...</th>\n",
       "      <td>...</td>\n",
       "      <td>...</td>\n",
       "    </tr>\n",
       "    <tr>\n",
       "      <th>14715</th>\n",
       "      <td>327500</td>\n",
       "      <td>310500</td>\n",
       "    </tr>\n",
       "    <tr>\n",
       "      <th>14716</th>\n",
       "      <td>328500</td>\n",
       "      <td>310500</td>\n",
       "    </tr>\n",
       "    <tr>\n",
       "      <th>14717</th>\n",
       "      <td>329500</td>\n",
       "      <td>310500</td>\n",
       "    </tr>\n",
       "    <tr>\n",
       "      <th>14718</th>\n",
       "      <td>326500</td>\n",
       "      <td>309500</td>\n",
       "    </tr>\n",
       "    <tr>\n",
       "      <th>14719</th>\n",
       "      <td>327500</td>\n",
       "      <td>309500</td>\n",
       "    </tr>\n",
       "  </tbody>\n",
       "</table>\n",
       "<p>14720 rows × 2 columns</p>\n",
       "</div>"
      ],
      "text/plain": [
       "            x       y\n",
       "0      310500  453500\n",
       "1      311500  453500\n",
       "2      312500  453500\n",
       "3      309500  452500\n",
       "4      310500  452500\n",
       "...       ...     ...\n",
       "14715  327500  310500\n",
       "14716  328500  310500\n",
       "14717  329500  310500\n",
       "14718  326500  309500\n",
       "14719  327500  309500\n",
       "\n",
       "[14720 rows x 2 columns]"
      ]
     },
     "execution_count": 9,
     "metadata": {},
     "output_type": "execute_result"
    }
   ],
   "source": [
    "#view\n",
    "radon[[\"x\", \"y\"]]"
   ]
  },
  {
   "cell_type": "code",
   "execution_count": 10,
   "id": "a83ec53f",
   "metadata": {},
   "outputs": [
    {
     "data": {
      "text/html": [
       "<div>\n",
       "<style scoped>\n",
       "    .dataframe tbody tr th:only-of-type {\n",
       "        vertical-align: middle;\n",
       "    }\n",
       "\n",
       "    .dataframe tbody tr th {\n",
       "        vertical-align: top;\n",
       "    }\n",
       "\n",
       "    .dataframe thead th {\n",
       "        text-align: right;\n",
       "    }\n",
       "</style>\n",
       "<table border=\"1\" class=\"dataframe\">\n",
       "  <thead>\n",
       "    <tr style=\"text-align: right;\">\n",
       "      <th></th>\n",
       "      <th>Tile</th>\n",
       "      <th>class</th>\n",
       "      <th>x</th>\n",
       "      <th>y</th>\n",
       "    </tr>\n",
       "  </thead>\n",
       "  <tbody>\n",
       "    <tr>\n",
       "      <th>89</th>\n",
       "      <td>D1643</td>\n",
       "      <td>6</td>\n",
       "      <td>316500</td>\n",
       "      <td>443500</td>\n",
       "    </tr>\n",
       "    <tr>\n",
       "      <th>0</th>\n",
       "      <td>D1053</td>\n",
       "      <td>1</td>\n",
       "      <td>310500</td>\n",
       "      <td>453500</td>\n",
       "    </tr>\n",
       "  </tbody>\n",
       "</table>\n",
       "</div>"
      ],
      "text/plain": [
       "     Tile  class       x       y\n",
       "89  D1643      6  316500  443500\n",
       "0   D1053      1  310500  453500"
      ]
     },
     "execution_count": 10,
     "metadata": {},
     "output_type": "execute_result"
    }
   ],
   "source": [
    "radon.loc[[radon[\"class\"].idxmax(), radon[\"class\"].idxmin()]]"
   ]
  },
  {
   "cell_type": "code",
   "execution_count": 11,
   "id": "c4fd1fc7",
   "metadata": {},
   "outputs": [],
   "source": [
    "import math\n",
    "import statistics\n",
    "import numpy as np\n",
    "import scipy.stats"
   ]
  },
  {
   "cell_type": "markdown",
   "id": "dc27a381",
   "metadata": {},
   "source": [
    "Descriptive Statistics, source: https://towardsdatascience.com/a-quick-guide-on-descriptive-statistics-using-pandas-and-seaborn-2aadc7395f32"
   ]
  },
  {
   "cell_type": "code",
   "execution_count": 12,
   "id": "692a665a",
   "metadata": {},
   "outputs": [
    {
     "name": "stdout",
     "output_type": "stream",
     "text": [
      "<class 'pandas.core.frame.DataFrame'>\n",
      "RangeIndex: 14720 entries, 0 to 14719\n",
      "Data columns (total 4 columns):\n",
      " #   Column  Non-Null Count  Dtype \n",
      "---  ------  --------------  ----- \n",
      " 0   Tile    14720 non-null  object\n",
      " 1   class   14720 non-null  int64 \n",
      " 2   x       14720 non-null  int64 \n",
      " 3   y       14720 non-null  int64 \n",
      "dtypes: int64(3), object(1)\n",
      "memory usage: 460.1+ KB\n"
     ]
    }
   ],
   "source": [
    "radon.info() #summary"
   ]
  },
  {
   "cell_type": "code",
   "execution_count": 13,
   "id": "753b7dd8",
   "metadata": {},
   "outputs": [
    {
     "data": {
      "text/plain": [
       "(14720, 4)"
      ]
     },
     "execution_count": 13,
     "metadata": {},
     "output_type": "execute_result"
    }
   ],
   "source": [
    "radon.shape # 868 rows and 6 columns"
   ]
  },
  {
   "cell_type": "code",
   "execution_count": 56,
   "id": "bade7632",
   "metadata": {},
   "outputs": [
    {
     "data": {
      "text/plain": [
       "Index(['OBJECTID', 'PERCENT', 'RadonText', 'X', 'Y', 'geometry'], dtype='object')"
      ]
     },
     "execution_count": 56,
     "metadata": {},
     "output_type": "execute_result"
    }
   ],
   "source": [
    "radon.columns  # columns  "
   ]
  },
  {
   "cell_type": "code",
   "execution_count": 14,
   "id": "4cf92604",
   "metadata": {},
   "outputs": [
    {
     "name": "stdout",
     "output_type": "stream",
     "text": [
      "2.682540760869565\n"
     ]
    }
   ],
   "source": [
    "average = radon['class'].mean() # calculate mean\n",
    "print(average)"
   ]
  },
  {
   "cell_type": "code",
   "execution_count": 15,
   "id": "7399c02c",
   "metadata": {},
   "outputs": [
    {
     "name": "stdout",
     "output_type": "stream",
     "text": [
      "2.0\n"
     ]
    }
   ],
   "source": [
    "med = radon['class'].median()\n",
    "print(med)"
   ]
  },
  {
   "cell_type": "code",
   "execution_count": 16,
   "id": "5459f33a",
   "metadata": {},
   "outputs": [
    {
     "data": {
      "text/html": [
       "<div>\n",
       "<style scoped>\n",
       "    .dataframe tbody tr th:only-of-type {\n",
       "        vertical-align: middle;\n",
       "    }\n",
       "\n",
       "    .dataframe tbody tr th {\n",
       "        vertical-align: top;\n",
       "    }\n",
       "\n",
       "    .dataframe thead th {\n",
       "        text-align: right;\n",
       "    }\n",
       "</style>\n",
       "<table border=\"1\" class=\"dataframe\">\n",
       "  <thead>\n",
       "    <tr style=\"text-align: right;\">\n",
       "      <th></th>\n",
       "      <th>Tile</th>\n",
       "      <th>class</th>\n",
       "      <th>x</th>\n",
       "      <th>y</th>\n",
       "    </tr>\n",
       "  </thead>\n",
       "  <tbody>\n",
       "  </tbody>\n",
       "</table>\n",
       "</div>"
      ],
      "text/plain": [
       "Empty DataFrame\n",
       "Columns: [Tile, class, x, y]\n",
       "Index: []"
      ]
     },
     "execution_count": 16,
     "metadata": {},
     "output_type": "execute_result"
    }
   ],
   "source": [
    "radon[radon['class'] > 40]"
   ]
  },
  {
   "cell_type": "markdown",
   "id": "2004c372",
   "metadata": {},
   "source": [
    "# Measure of Variation"
   ]
  },
  {
   "cell_type": "code",
   "execution_count": 17,
   "id": "c18942a8",
   "metadata": {},
   "outputs": [
    {
     "name": "stdout",
     "output_type": "stream",
     "text": [
      "1.5419384184370073\n"
     ]
    }
   ],
   "source": [
    "SD = radon['class'].std() # standard deviation (SD)\n",
    "print(SD)"
   ]
  },
  {
   "cell_type": "markdown",
   "id": "d94c9c51",
   "metadata": {},
   "source": [
    "# show the numerical data distribution"
   ]
  },
  {
   "cell_type": "code",
   "execution_count": 18,
   "id": "c5f71d7f",
   "metadata": {},
   "outputs": [],
   "source": [
    "# deactivated\n",
    "\n",
    "# import seaborn as sns\n",
    "# %matplotlib inline\n",
    "\n",
    "# sns.set(style=\"whitegrid\")\n",
    "# ax = sns.boxplot(x='class', data=radon, orient=\"v\")"
   ]
  },
  {
   "cell_type": "code",
   "execution_count": 19,
   "id": "4920aae5",
   "metadata": {},
   "outputs": [],
   "source": [
    "import matplotlib.pyplot as plt\n",
    "import cartopy as cp\n",
    "from cartopy.feature import ShapelyFeature\n",
    "import cartopy.crs as ccrs"
   ]
  },
  {
   "cell_type": "code",
   "execution_count": 20,
   "id": "016be9a3",
   "metadata": {},
   "outputs": [],
   "source": [
    "import matplotlib.patches as mpatches\n",
    "import matplotlib.lines as mlines"
   ]
  },
  {
   "cell_type": "code",
   "execution_count": 21,
   "id": "f17d90b0",
   "metadata": {
    "scrolled": true
   },
   "outputs": [
    {
     "name": "stderr",
     "output_type": "stream",
     "text": [
      "C:\\Users\\asuwa\\anaconda3\\envs\\RadonNI\\lib\\site-packages\\pyproj\\crs\\crs.py:280: FutureWarning: '+init=<authority>:<code>' syntax is deprecated. '<authority>:<code>' is the preferred initialization method. When making the change, be mindful of axis order changes: https://pyproj4.github.io/pyproj/stable/gotchas.html#axis-order-changes-in-proj-6\n",
      "  projstring = _prepare_from_string(projparams)\n"
     ]
    },
    {
     "data": {
      "image/png": "[encoded data removed]",
      "text/plain": [
       "<Figure size 432x288 with 1 Axes>"
      ]
     },
     "metadata": {
      "needs_background": "light"
     },
     "output_type": "display_data"
    }
   ],
   "source": [
    "pts = [Point(row['x'], row['y']) for id, row in radon[['x', 'y']].iterrows()]\n",
    "pts = gpd.GeoSeries(pts, crs='+init=epsg:29902')\n",
    "pts.plot();"
   ]
  },
  {
   "cell_type": "markdown",
   "id": "9edac812",
   "metadata": {},
   "source": [
    "# Make the plotting interactive"
   ]
  },
  {
   "cell_type": "code",
   "execution_count": 22,
   "id": "590017e2",
   "metadata": {},
   "outputs": [
    {
     "data": {
      "text/plain": [
       "<matplotlib.pyplot._IonContext at 0x1beadc95400>"
      ]
     },
     "execution_count": 22,
     "metadata": {},
     "output_type": "execute_result"
    }
   ],
   "source": [
    "plt.ion()"
   ]
  },
  {
   "cell_type": "code",
   "execution_count": 23,
   "id": "e0dce128",
   "metadata": {},
   "outputs": [],
   "source": [
    "import numpy as np # we rename it in the session as `np` by convention\n",
    "import pandas as pd\n",
    "import shapefile as shp\n",
    "import matplotlib.pyplot as plt\n",
    "import seaborn as sns"
   ]
  },
  {
   "cell_type": "markdown",
   "id": "b98c553b",
   "metadata": {},
   "source": [
    "# Use \"% matplotlib inline\" to  render the figure in a notebook. To set this up, before any plotting or import of matplotlib is performed you must execute the %matplotlib magic command. This performs the necessary behind-the-scenes setup for IPython to work correctly hand in hand with matplotlib; it does not, however, actually execute any Python import commands, that is, no names are added to the namespace."
   ]
  },
  {
   "cell_type": "markdown",
   "id": "c65e01b1",
   "metadata": {},
   "source": [
    "# zip is an iterator, so we use list to create something that pandas can use."
   ]
  },
  {
   "cell_type": "code",
   "execution_count": 24,
   "id": "4c476614",
   "metadata": {},
   "outputs": [],
   "source": [
    "radon['geometry'] = list(zip(radon['x'], radon['y']))"
   ]
  },
  {
   "cell_type": "markdown",
   "id": "808df41b",
   "metadata": {},
   "source": [
    "# using the 'apply' method of the dataframe,\n",
    "# turn the coordinates column\n",
    "# into points (instead of a tuple of lat, lon coordinates).\n",
    "# NB: Point takes (x, y) coordinates"
   ]
  },
  {
   "cell_type": "code",
   "execution_count": 25,
   "id": "78003d83",
   "metadata": {},
   "outputs": [],
   "source": [
    "radon['geometry'] = radon['geometry'].apply(Point)"
   ]
  },
  {
   "cell_type": "code",
   "execution_count": 26,
   "id": "30f4c0d7",
   "metadata": {},
   "outputs": [
    {
     "data": {
      "text/html": [
       "<div>\n",
       "<style scoped>\n",
       "    .dataframe tbody tr th:only-of-type {\n",
       "        vertical-align: middle;\n",
       "    }\n",
       "\n",
       "    .dataframe tbody tr th {\n",
       "        vertical-align: top;\n",
       "    }\n",
       "\n",
       "    .dataframe thead th {\n",
       "        text-align: right;\n",
       "    }\n",
       "</style>\n",
       "<table border=\"1\" class=\"dataframe\">\n",
       "  <thead>\n",
       "    <tr style=\"text-align: right;\">\n",
       "      <th></th>\n",
       "      <th>Tile</th>\n",
       "      <th>class</th>\n",
       "      <th>x</th>\n",
       "      <th>y</th>\n",
       "      <th>geometry</th>\n",
       "    </tr>\n",
       "  </thead>\n",
       "  <tbody>\n",
       "    <tr>\n",
       "      <th>0</th>\n",
       "      <td>D1053</td>\n",
       "      <td>1</td>\n",
       "      <td>310500</td>\n",
       "      <td>453500</td>\n",
       "      <td>POINT (310500 453500)</td>\n",
       "    </tr>\n",
       "    <tr>\n",
       "      <th>1</th>\n",
       "      <td>D1153</td>\n",
       "      <td>1</td>\n",
       "      <td>311500</td>\n",
       "      <td>453500</td>\n",
       "      <td>POINT (311500 453500)</td>\n",
       "    </tr>\n",
       "    <tr>\n",
       "      <th>2</th>\n",
       "      <td>D1253</td>\n",
       "      <td>1</td>\n",
       "      <td>312500</td>\n",
       "      <td>453500</td>\n",
       "      <td>POINT (312500 453500)</td>\n",
       "    </tr>\n",
       "    <tr>\n",
       "      <th>3</th>\n",
       "      <td>D0952</td>\n",
       "      <td>2</td>\n",
       "      <td>309500</td>\n",
       "      <td>452500</td>\n",
       "      <td>POINT (309500 452500)</td>\n",
       "    </tr>\n",
       "    <tr>\n",
       "      <th>4</th>\n",
       "      <td>D1052</td>\n",
       "      <td>2</td>\n",
       "      <td>310500</td>\n",
       "      <td>452500</td>\n",
       "      <td>POINT (310500 452500)</td>\n",
       "    </tr>\n",
       "    <tr>\n",
       "      <th>...</th>\n",
       "      <td>...</td>\n",
       "      <td>...</td>\n",
       "      <td>...</td>\n",
       "      <td>...</td>\n",
       "      <td>...</td>\n",
       "    </tr>\n",
       "    <tr>\n",
       "      <th>14715</th>\n",
       "      <td>J2710</td>\n",
       "      <td>5</td>\n",
       "      <td>327500</td>\n",
       "      <td>310500</td>\n",
       "      <td>POINT (327500 310500)</td>\n",
       "    </tr>\n",
       "    <tr>\n",
       "      <th>14716</th>\n",
       "      <td>J2810</td>\n",
       "      <td>4</td>\n",
       "      <td>328500</td>\n",
       "      <td>310500</td>\n",
       "      <td>POINT (328500 310500)</td>\n",
       "    </tr>\n",
       "    <tr>\n",
       "      <th>14717</th>\n",
       "      <td>J2910</td>\n",
       "      <td>4</td>\n",
       "      <td>329500</td>\n",
       "      <td>310500</td>\n",
       "      <td>POINT (329500 310500)</td>\n",
       "    </tr>\n",
       "    <tr>\n",
       "      <th>14718</th>\n",
       "      <td>J2609</td>\n",
       "      <td>4</td>\n",
       "      <td>326500</td>\n",
       "      <td>309500</td>\n",
       "      <td>POINT (326500 309500)</td>\n",
       "    </tr>\n",
       "    <tr>\n",
       "      <th>14719</th>\n",
       "      <td>J2709</td>\n",
       "      <td>4</td>\n",
       "      <td>327500</td>\n",
       "      <td>309500</td>\n",
       "      <td>POINT (327500 309500)</td>\n",
       "    </tr>\n",
       "  </tbody>\n",
       "</table>\n",
       "<p>14720 rows × 5 columns</p>\n",
       "</div>"
      ],
      "text/plain": [
       "        Tile  class       x       y               geometry\n",
       "0      D1053      1  310500  453500  POINT (310500 453500)\n",
       "1      D1153      1  311500  453500  POINT (311500 453500)\n",
       "2      D1253      1  312500  453500  POINT (312500 453500)\n",
       "3      D0952      2  309500  452500  POINT (309500 452500)\n",
       "4      D1052      2  310500  452500  POINT (310500 452500)\n",
       "...      ...    ...     ...     ...                    ...\n",
       "14715  J2710      5  327500  310500  POINT (327500 310500)\n",
       "14716  J2810      4  328500  310500  POINT (328500 310500)\n",
       "14717  J2910      4  329500  310500  POINT (329500 310500)\n",
       "14718  J2609      4  326500  309500  POINT (326500 309500)\n",
       "14719  J2709      4  327500  309500  POINT (327500 309500)\n",
       "\n",
       "[14720 rows x 5 columns]"
      ]
     },
     "execution_count": 26,
     "metadata": {},
     "output_type": "execute_result"
    }
   ],
   "source": [
    "radon"
   ]
  },
  {
   "cell_type": "code",
   "execution_count": 27,
   "id": "10f96b10",
   "metadata": {},
   "outputs": [],
   "source": [
    "gradon = gpd.GeoDataFrame(radon)"
   ]
  },
  {
   "cell_type": "code",
   "execution_count": 28,
   "id": "0f0b6bca",
   "metadata": {},
   "outputs": [],
   "source": [
    "# this sets the coordinate reference system to epsg:29902"
   ]
  },
  {
   "cell_type": "code",
   "execution_count": 29,
   "id": "5dd05b11",
   "metadata": {},
   "outputs": [
    {
     "data": {
      "text/html": [
       "<div>\n",
       "<style scoped>\n",
       "    .dataframe tbody tr th:only-of-type {\n",
       "        vertical-align: middle;\n",
       "    }\n",
       "\n",
       "    .dataframe tbody tr th {\n",
       "        vertical-align: top;\n",
       "    }\n",
       "\n",
       "    .dataframe thead th {\n",
       "        text-align: right;\n",
       "    }\n",
       "</style>\n",
       "<table border=\"1\" class=\"dataframe\">\n",
       "  <thead>\n",
       "    <tr style=\"text-align: right;\">\n",
       "      <th></th>\n",
       "      <th>Tile</th>\n",
       "      <th>class</th>\n",
       "      <th>x</th>\n",
       "      <th>y</th>\n",
       "      <th>geometry</th>\n",
       "    </tr>\n",
       "  </thead>\n",
       "  <tbody>\n",
       "    <tr>\n",
       "      <th>0</th>\n",
       "      <td>D1053</td>\n",
       "      <td>1</td>\n",
       "      <td>310500</td>\n",
       "      <td>453500</td>\n",
       "      <td>POINT (310500.000 453500.000)</td>\n",
       "    </tr>\n",
       "    <tr>\n",
       "      <th>1</th>\n",
       "      <td>D1153</td>\n",
       "      <td>1</td>\n",
       "      <td>311500</td>\n",
       "      <td>453500</td>\n",
       "      <td>POINT (311500.000 453500.000)</td>\n",
       "    </tr>\n",
       "    <tr>\n",
       "      <th>2</th>\n",
       "      <td>D1253</td>\n",
       "      <td>1</td>\n",
       "      <td>312500</td>\n",
       "      <td>453500</td>\n",
       "      <td>POINT (312500.000 453500.000)</td>\n",
       "    </tr>\n",
       "    <tr>\n",
       "      <th>3</th>\n",
       "      <td>D0952</td>\n",
       "      <td>2</td>\n",
       "      <td>309500</td>\n",
       "      <td>452500</td>\n",
       "      <td>POINT (309500.000 452500.000)</td>\n",
       "    </tr>\n",
       "    <tr>\n",
       "      <th>4</th>\n",
       "      <td>D1052</td>\n",
       "      <td>2</td>\n",
       "      <td>310500</td>\n",
       "      <td>452500</td>\n",
       "      <td>POINT (310500.000 452500.000)</td>\n",
       "    </tr>\n",
       "    <tr>\n",
       "      <th>...</th>\n",
       "      <td>...</td>\n",
       "      <td>...</td>\n",
       "      <td>...</td>\n",
       "      <td>...</td>\n",
       "      <td>...</td>\n",
       "    </tr>\n",
       "    <tr>\n",
       "      <th>14715</th>\n",
       "      <td>J2710</td>\n",
       "      <td>5</td>\n",
       "      <td>327500</td>\n",
       "      <td>310500</td>\n",
       "      <td>POINT (327500.000 310500.000)</td>\n",
       "    </tr>\n",
       "    <tr>\n",
       "      <th>14716</th>\n",
       "      <td>J2810</td>\n",
       "      <td>4</td>\n",
       "      <td>328500</td>\n",
       "      <td>310500</td>\n",
       "      <td>POINT (328500.000 310500.000)</td>\n",
       "    </tr>\n",
       "    <tr>\n",
       "      <th>14717</th>\n",
       "      <td>J2910</td>\n",
       "      <td>4</td>\n",
       "      <td>329500</td>\n",
       "      <td>310500</td>\n",
       "      <td>POINT (329500.000 310500.000)</td>\n",
       "    </tr>\n",
       "    <tr>\n",
       "      <th>14718</th>\n",
       "      <td>J2609</td>\n",
       "      <td>4</td>\n",
       "      <td>326500</td>\n",
       "      <td>309500</td>\n",
       "      <td>POINT (326500.000 309500.000)</td>\n",
       "    </tr>\n",
       "    <tr>\n",
       "      <th>14719</th>\n",
       "      <td>J2709</td>\n",
       "      <td>4</td>\n",
       "      <td>327500</td>\n",
       "      <td>309500</td>\n",
       "      <td>POINT (327500.000 309500.000)</td>\n",
       "    </tr>\n",
       "  </tbody>\n",
       "</table>\n",
       "<p>14720 rows × 5 columns</p>\n",
       "</div>"
      ],
      "text/plain": [
       "        Tile  class       x       y                       geometry\n",
       "0      D1053      1  310500  453500  POINT (310500.000 453500.000)\n",
       "1      D1153      1  311500  453500  POINT (311500.000 453500.000)\n",
       "2      D1253      1  312500  453500  POINT (312500.000 453500.000)\n",
       "3      D0952      2  309500  452500  POINT (309500.000 452500.000)\n",
       "4      D1052      2  310500  452500  POINT (310500.000 452500.000)\n",
       "...      ...    ...     ...     ...                            ...\n",
       "14715  J2710      5  327500  310500  POINT (327500.000 310500.000)\n",
       "14716  J2810      4  328500  310500  POINT (328500.000 310500.000)\n",
       "14717  J2910      4  329500  310500  POINT (329500.000 310500.000)\n",
       "14718  J2609      4  326500  309500  POINT (326500.000 309500.000)\n",
       "14719  J2709      4  327500  309500  POINT (327500.000 309500.000)\n",
       "\n",
       "[14720 rows x 5 columns]"
      ]
     },
     "execution_count": 29,
     "metadata": {},
     "output_type": "execute_result"
    }
   ],
   "source": [
    "gradon.set_crs(\"EPSG:29902\", inplace=True)"
   ]
  },
  {
   "cell_type": "code",
   "execution_count": 30,
   "id": "07cd4052",
   "metadata": {},
   "outputs": [
    {
     "name": "stdout",
     "output_type": "stream",
     "text": [
      "        Tile  class       x       y                       geometry\n",
      "0      D1053      1  310500  453500  POINT (310500.000 453500.000)\n",
      "1      D1153      1  311500  453500  POINT (311500.000 453500.000)\n",
      "2      D1253      1  312500  453500  POINT (312500.000 453500.000)\n",
      "3      D0952      2  309500  452500  POINT (309500.000 452500.000)\n",
      "4      D1052      2  310500  452500  POINT (310500.000 452500.000)\n",
      "...      ...    ...     ...     ...                            ...\n",
      "14715  J2710      5  327500  310500  POINT (327500.000 310500.000)\n",
      "14716  J2810      4  328500  310500  POINT (328500.000 310500.000)\n",
      "14717  J2910      4  329500  310500  POINT (329500.000 310500.000)\n",
      "14718  J2609      4  326500  309500  POINT (326500.000 309500.000)\n",
      "14719  J2709      4  327500  309500  POINT (327500.000 309500.000)\n",
      "\n",
      "[14720 rows x 5 columns]\n"
     ]
    }
   ],
   "source": [
    "print(gradon)"
   ]
  },
  {
   "cell_type": "code",
   "execution_count": 31,
   "id": "ea597a1b",
   "metadata": {},
   "outputs": [],
   "source": [
    "radon = gpd.read_file('data_files/RadonNI_conda.shp')"
   ]
  },
  {
   "cell_type": "code",
   "execution_count": 32,
   "id": "888676ae",
   "metadata": {},
   "outputs": [
    {
     "name": "stdout",
     "output_type": "stream",
     "text": [
      "   COUNTY_ID   CountyName    Area_SqKM  OBJECTID  \\\n",
      "0          6       TYRONE  3265.796622         1   \n",
      "1          1       ANTRIM  3097.847750         2   \n",
      "2          2       ARMAGH  1327.228438         3   \n",
      "3          4    FERMANAGH  1850.832538         4   \n",
      "4          5  LONDONDERRY  2118.316853         5   \n",
      "\n",
      "                                            geometry  \n",
      "0  POLYGON ((603659.943 6089544.483, 603665.021 6...  \n",
      "1  MULTIPOLYGON (((697048.708 6049234.680, 697047...  \n",
      "2  POLYGON ((671301.846 6043407.459, 671437.484 6...  \n",
      "3  POLYGON ((584348.238 6051633.297, 584365.882 6...  \n",
      "4  POLYGON ((648345.446 6119413.614, 648346.157 6...  \n"
     ]
    }
   ],
   "source": [
    "counties = gpd.read_file('data_files/Counties1.shp')\n",
    "print(counties.head())"
   ]
  },
  {
   "cell_type": "code",
   "execution_count": 33,
   "id": "94f60a96",
   "metadata": {},
   "outputs": [
    {
     "data": {
      "text/plain": [
       "<AxesSubplot:>"
      ]
     },
     "execution_count": 33,
     "metadata": {},
     "output_type": "execute_result"
    },
    {
     "data": {
      "image/png": "[encoded data removed]",
      "text/plain": [
       "<Figure size 432x288 with 1 Axes>"
      ]
     },
     "metadata": {
      "needs_background": "light"
     },
     "output_type": "display_data"
    }
   ],
   "source": [
    "counties.plot()"
   ]
  },
  {
   "cell_type": "code",
   "execution_count": 34,
   "id": "3722195a",
   "metadata": {},
   "outputs": [
    {
     "data": {
      "text/plain": [
       "<AxesSubplot:>"
      ]
     },
     "execution_count": 34,
     "metadata": {},
     "output_type": "execute_result"
    },
    {
     "data": {
      "image/png": "[encoded data removed]",
      "text/plain": [
       "<Figure size 432x288 with 1 Axes>"
      ]
     },
     "metadata": {
      "needs_background": "light"
     },
     "output_type": "display_data"
    }
   ],
   "source": [
    "counties.plot(alpha=0.5) # change transparency"
   ]
  },
  {
   "cell_type": "code",
   "execution_count": 35,
   "id": "6df2a5e1",
   "metadata": {},
   "outputs": [
    {
     "name": "stderr",
     "output_type": "stream",
     "text": [
      "C:\\Users\\asuwa\\anaconda3\\envs\\RadonNI\\lib\\site-packages\\geopandas\\plotting.py:634: FutureWarning: 'axes' is deprecated, please use 'ax' instead (for consistency with pandas)\n",
      "  warnings.warn(\n"
     ]
    },
    {
     "data": {
      "image/png": "[encoded data removed]",
      "text/plain": [
       "<Figure size 864x864 with 1 Axes>"
      ]
     },
     "metadata": {
      "needs_background": "light"
     },
     "output_type": "display_data"
    }
   ],
   "source": [
    "f, ax = plt.subplots(1, figsize=(12, 12))\n",
    "ax = counties.plot(axes=ax)\n",
    "f.suptitle('Northern Ireland Administrative divisions')\n",
    "plt.show()"
   ]
  },
  {
   "cell_type": "code",
   "execution_count": 36,
   "id": "4139795c",
   "metadata": {},
   "outputs": [
    {
     "data": {
      "text/plain": [
       "<Projected CRS: EPSG:29902>\n",
       "Name: TM65 / Irish Grid\n",
       "Axis Info [cartesian]:\n",
       "- E[east]: Easting (metre)\n",
       "- N[north]: Northing (metre)\n",
       "Area of Use:\n",
       "- name: Ireland - onshore.\n",
       "- bounds: (-10.56, 51.39, -5.93, 55.43)\n",
       "Coordinate Operation:\n",
       "- name: Irish Grid\n",
       "- method: Transverse Mercator\n",
       "Datum: TM65\n",
       "- Ellipsoid: Airy Modified 1849\n",
       "- Prime Meridian: Greenwich"
      ]
     },
     "execution_count": 36,
     "metadata": {},
     "output_type": "execute_result"
    }
   ],
   "source": [
    "counties.crs"
   ]
  },
  {
   "cell_type": "code",
   "execution_count": 37,
   "id": "e4dcf75e",
   "metadata": {},
   "outputs": [
    {
     "data": {
      "image/png": "[encoded data removed]",
      "text/plain": [
       "<Figure size 432x288 with 1 Axes>"
      ]
     },
     "metadata": {
      "needs_background": "light"
     },
     "output_type": "display_data"
    }
   ],
   "source": [
    "counties.to_crs(epsg=29902).plot()\n",
    "lims = plt.axis('equal')"
   ]
  },
  {
   "cell_type": "code",
   "execution_count": 38,
   "id": "353927b7",
   "metadata": {},
   "outputs": [
    {
     "name": "stdout",
     "output_type": "stream",
     "text": [
      "Number of features: 6\n"
     ]
    }
   ],
   "source": [
    "rows, cols = counties.shape # get the number of rows, columns in the table\n",
    "print('Number of features: {}'.format(rows))"
   ]
  },
  {
   "cell_type": "code",
   "execution_count": 39,
   "id": "d30dff00",
   "metadata": {},
   "outputs": [
    {
     "data": {
      "text/plain": [
       "Index(['COUNTY_ID', 'CountyName', 'Area_SqKM', 'OBJECTID', 'geometry'], dtype='object')"
      ]
     },
     "execution_count": 39,
     "metadata": {},
     "output_type": "execute_result"
    }
   ],
   "source": [
    "counties.columns"
   ]
  },
  {
   "cell_type": "code",
   "execution_count": 40,
   "id": "8808f11f",
   "metadata": {},
   "outputs": [
    {
     "data": {
      "text/html": [
       "<div>\n",
       "<style scoped>\n",
       "    .dataframe tbody tr th:only-of-type {\n",
       "        vertical-align: middle;\n",
       "    }\n",
       "\n",
       "    .dataframe tbody tr th {\n",
       "        vertical-align: top;\n",
       "    }\n",
       "\n",
       "    .dataframe thead th {\n",
       "        text-align: right;\n",
       "    }\n",
       "</style>\n",
       "<table border=\"1\" class=\"dataframe\">\n",
       "  <thead>\n",
       "    <tr style=\"text-align: right;\">\n",
       "      <th></th>\n",
       "      <th>COUNTY_ID</th>\n",
       "      <th>CountyName</th>\n",
       "      <th>Area_SqKM</th>\n",
       "      <th>OBJECTID</th>\n",
       "      <th>geometry</th>\n",
       "    </tr>\n",
       "  </thead>\n",
       "  <tbody>\n",
       "    <tr>\n",
       "      <th>0</th>\n",
       "      <td>6</td>\n",
       "      <td>TYRONE</td>\n",
       "      <td>3265.796622</td>\n",
       "      <td>1</td>\n",
       "      <td>POLYGON ((603659.943 6089544.483, 603665.021 6...</td>\n",
       "    </tr>\n",
       "    <tr>\n",
       "      <th>1</th>\n",
       "      <td>1</td>\n",
       "      <td>ANTRIM</td>\n",
       "      <td>3097.847750</td>\n",
       "      <td>2</td>\n",
       "      <td>MULTIPOLYGON (((697048.708 6049234.680, 697047...</td>\n",
       "    </tr>\n",
       "    <tr>\n",
       "      <th>2</th>\n",
       "      <td>2</td>\n",
       "      <td>ARMAGH</td>\n",
       "      <td>1327.228438</td>\n",
       "      <td>3</td>\n",
       "      <td>POLYGON ((671301.846 6043407.459, 671437.484 6...</td>\n",
       "    </tr>\n",
       "    <tr>\n",
       "      <th>3</th>\n",
       "      <td>4</td>\n",
       "      <td>FERMANAGH</td>\n",
       "      <td>1850.832538</td>\n",
       "      <td>4</td>\n",
       "      <td>POLYGON ((584348.238 6051633.297, 584365.882 6...</td>\n",
       "    </tr>\n",
       "    <tr>\n",
       "      <th>4</th>\n",
       "      <td>5</td>\n",
       "      <td>LONDONDERRY</td>\n",
       "      <td>2118.316853</td>\n",
       "      <td>5</td>\n",
       "      <td>POLYGON ((648345.446 6119413.614, 648346.157 6...</td>\n",
       "    </tr>\n",
       "  </tbody>\n",
       "</table>\n",
       "</div>"
      ],
      "text/plain": [
       "   COUNTY_ID   CountyName    Area_SqKM  OBJECTID  \\\n",
       "0          6       TYRONE  3265.796622         1   \n",
       "1          1       ANTRIM  3097.847750         2   \n",
       "2          2       ARMAGH  1327.228438         3   \n",
       "3          4    FERMANAGH  1850.832538         4   \n",
       "4          5  LONDONDERRY  2118.316853         5   \n",
       "\n",
       "                                            geometry  \n",
       "0  POLYGON ((603659.943 6089544.483, 603665.021 6...  \n",
       "1  MULTIPOLYGON (((697048.708 6049234.680, 697047...  \n",
       "2  POLYGON ((671301.846 6043407.459, 671437.484 6...  \n",
       "3  POLYGON ((584348.238 6051633.297, 584365.882 6...  \n",
       "4  POLYGON ((648345.446 6119413.614, 648346.157 6...  "
      ]
     },
     "execution_count": 40,
     "metadata": {},
     "output_type": "execute_result"
    }
   ],
   "source": [
    "counties.head()"
   ]
  },
  {
   "cell_type": "code",
   "execution_count": 41,
   "id": "6a078a8e",
   "metadata": {},
   "outputs": [
    {
     "name": "stdout",
     "output_type": "stream",
     "text": [
      "['TYRONE', 'ANTRIM', 'ARMAGH', 'FERMANAGH', 'LONDONDERRY', 'DOWN']\n"
     ]
    }
   ],
   "source": [
    "divisions = counties['CountyName'].tolist() # Get a list of a particular column (Counties)\n",
    "print(divisions)"
   ]
  },
  {
   "cell_type": "code",
   "execution_count": 42,
   "id": "35bd08b3",
   "metadata": {},
   "outputs": [],
   "source": [
    "gcounties = gpd.GeoDataFrame(counties)"
   ]
  },
  {
   "cell_type": "code",
   "execution_count": 43,
   "id": "4ee9a7ba",
   "metadata": {},
   "outputs": [],
   "source": [
    "# Radon data within counties\n",
    "radon_counties = gpd.sjoin(gradon, gcounties, how=\"inner\", op='within')"
   ]
  },
  {
   "cell_type": "code",
   "execution_count": 44,
   "id": "54b19a3e",
   "metadata": {},
   "outputs": [
    {
     "data": {
      "text/html": [
       "<div>\n",
       "<style scoped>\n",
       "    .dataframe tbody tr th:only-of-type {\n",
       "        vertical-align: middle;\n",
       "    }\n",
       "\n",
       "    .dataframe tbody tr th {\n",
       "        vertical-align: top;\n",
       "    }\n",
       "\n",
       "    .dataframe thead th {\n",
       "        text-align: right;\n",
       "    }\n",
       "</style>\n",
       "<table border=\"1\" class=\"dataframe\">\n",
       "  <thead>\n",
       "    <tr style=\"text-align: right;\">\n",
       "      <th></th>\n",
       "      <th>Tile</th>\n",
       "      <th>class</th>\n",
       "      <th>x</th>\n",
       "      <th>y</th>\n",
       "      <th>geometry</th>\n",
       "      <th>index_right</th>\n",
       "      <th>COUNTY_ID</th>\n",
       "      <th>CountyName</th>\n",
       "      <th>Area_SqKM</th>\n",
       "      <th>OBJECTID</th>\n",
       "    </tr>\n",
       "  </thead>\n",
       "  <tbody>\n",
       "  </tbody>\n",
       "</table>\n",
       "</div>"
      ],
      "text/plain": [
       "Empty GeoDataFrame\n",
       "Columns: [Tile, class, x, y, geometry, index_right, COUNTY_ID, CountyName, Area_SqKM, OBJECTID]\n",
       "Index: []"
      ]
     },
     "execution_count": 44,
     "metadata": {},
     "output_type": "execute_result"
    }
   ],
   "source": [
    "radon_counties.head()"
   ]
  },
  {
   "cell_type": "code",
   "execution_count": 45,
   "id": "2a6f1c11",
   "metadata": {},
   "outputs": [
    {
     "data": {
      "text/html": [
       "<div>\n",
       "<style scoped>\n",
       "    .dataframe tbody tr th:only-of-type {\n",
       "        vertical-align: middle;\n",
       "    }\n",
       "\n",
       "    .dataframe tbody tr th {\n",
       "        vertical-align: top;\n",
       "    }\n",
       "\n",
       "    .dataframe thead th {\n",
       "        text-align: right;\n",
       "    }\n",
       "</style>\n",
       "<table border=\"1\" class=\"dataframe\">\n",
       "  <thead>\n",
       "    <tr style=\"text-align: right;\">\n",
       "      <th></th>\n",
       "      <th>Tile</th>\n",
       "      <th>class</th>\n",
       "      <th>x</th>\n",
       "      <th>y</th>\n",
       "      <th>geometry</th>\n",
       "      <th>index_right</th>\n",
       "      <th>COUNTY_ID</th>\n",
       "      <th>CountyName</th>\n",
       "      <th>Area_SqKM</th>\n",
       "      <th>OBJECTID</th>\n",
       "    </tr>\n",
       "  </thead>\n",
       "  <tbody>\n",
       "  </tbody>\n",
       "</table>\n",
       "</div>"
      ],
      "text/plain": [
       "Empty GeoDataFrame\n",
       "Columns: [Tile, class, x, y, geometry, index_right, COUNTY_ID, CountyName, Area_SqKM, OBJECTID]\n",
       "Index: []"
      ]
     },
     "execution_count": 45,
     "metadata": {},
     "output_type": "execute_result"
    }
   ],
   "source": [
    "radon_counties"
   ]
  },
  {
   "cell_type": "code",
   "execution_count": 46,
   "id": "a31a6359",
   "metadata": {},
   "outputs": [
    {
     "data": {
      "text/plain": [
       "(0, 10)"
      ]
     },
     "execution_count": 46,
     "metadata": {},
     "output_type": "execute_result"
    }
   ],
   "source": [
    "radon_counties.shape"
   ]
  },
  {
   "cell_type": "code",
   "execution_count": 47,
   "id": "68ccb7a2",
   "metadata": {},
   "outputs": [],
   "source": [
    " from shapely.geometry import MultiPolygon"
   ]
  },
  {
   "cell_type": "code",
   "execution_count": 48,
   "id": "de2d79cb",
   "metadata": {},
   "outputs": [
    {
     "data": {
      "text/plain": [
       "<Projected CRS: EPSG:29901>\n",
       "Name: OSNI 1952 / Irish National Grid\n",
       "Axis Info [cartesian]:\n",
       "- E[east]: Easting (metre)\n",
       "- N[north]: Northing (metre)\n",
       "Area of Use:\n",
       "- name: United Kingdom (UK) - Northern Ireland (Ulster) - onshore.\n",
       "- bounds: (-8.18, 53.96, -5.34, 55.36)\n",
       "Coordinate Operation:\n",
       "- name: Irish National Grid\n",
       "- method: Transverse Mercator\n",
       "Datum: OSNI 1952\n",
       "- Ellipsoid: Airy 1830\n",
       "- Prime Meridian: Greenwich"
      ]
     },
     "execution_count": 48,
     "metadata": {},
     "output_type": "execute_result"
    }
   ],
   "source": [
    "radon.crs"
   ]
  },
  {
   "cell_type": "code",
   "execution_count": 49,
   "id": "5f54dfc5",
   "metadata": {},
   "outputs": [
    {
     "data": {
      "text/plain": [
       "<Projected CRS: EPSG:29902>\n",
       "Name: TM65 / Irish Grid\n",
       "Axis Info [cartesian]:\n",
       "- E[east]: Easting (metre)\n",
       "- N[north]: Northing (metre)\n",
       "Area of Use:\n",
       "- name: Ireland - onshore.\n",
       "- bounds: (-10.56, 51.39, -5.93, 55.43)\n",
       "Coordinate Operation:\n",
       "- name: Irish Grid\n",
       "- method: Transverse Mercator\n",
       "Datum: TM65\n",
       "- Ellipsoid: Airy Modified 1849\n",
       "- Prime Meridian: Greenwich"
      ]
     },
     "execution_count": 49,
     "metadata": {},
     "output_type": "execute_result"
    }
   ],
   "source": [
    "gradon.crs"
   ]
  },
  {
   "cell_type": "code",
   "execution_count": 50,
   "id": "72fa791f",
   "metadata": {},
   "outputs": [
    {
     "data": {
      "text/plain": [
       "<Projected CRS: EPSG:29902>\n",
       "Name: TM65 / Irish Grid\n",
       "Axis Info [cartesian]:\n",
       "- E[east]: Easting (metre)\n",
       "- N[north]: Northing (metre)\n",
       "Area of Use:\n",
       "- name: Ireland - onshore.\n",
       "- bounds: (-10.56, 51.39, -5.93, 55.43)\n",
       "Coordinate Operation:\n",
       "- name: Irish Grid\n",
       "- method: Transverse Mercator\n",
       "Datum: TM65\n",
       "- Ellipsoid: Airy Modified 1849\n",
       "- Prime Meridian: Greenwich"
      ]
     },
     "execution_count": 50,
     "metadata": {},
     "output_type": "execute_result"
    }
   ],
   "source": [
    "counties.crs"
   ]
  },
  {
   "cell_type": "code",
   "execution_count": 51,
   "id": "79466bc2",
   "metadata": {},
   "outputs": [
    {
     "data": {
      "text/plain": [
       "<Projected CRS: EPSG:29901>\n",
       "Name: OSNI 1952 / Irish National Grid\n",
       "Axis Info [cartesian]:\n",
       "- E[east]: Easting (metre)\n",
       "- N[north]: Northing (metre)\n",
       "Area of Use:\n",
       "- name: United Kingdom (UK) - Northern Ireland (Ulster) - onshore.\n",
       "- bounds: (-8.18, 53.96, -5.34, 55.36)\n",
       "Coordinate Operation:\n",
       "- name: Irish National Grid\n",
       "- method: Transverse Mercator\n",
       "Datum: OSNI 1952\n",
       "- Ellipsoid: Airy 1830\n",
       "- Prime Meridian: Greenwich"
      ]
     },
     "execution_count": 51,
     "metadata": {},
     "output_type": "execute_result"
    }
   ],
   "source": [
    "radon.crs"
   ]
  },
  {
   "cell_type": "code",
   "execution_count": 52,
   "id": "4319c42c",
   "metadata": {},
   "outputs": [
    {
     "data": {
      "text/plain": [
       "<Projected CRS: EPSG:29902>\n",
       "Name: TM65 / Irish Grid\n",
       "Axis Info [cartesian]:\n",
       "- E[east]: Easting (metre)\n",
       "- N[north]: Northing (metre)\n",
       "Area of Use:\n",
       "- name: Ireland - onshore.\n",
       "- bounds: (-10.56, 51.39, -5.93, 55.43)\n",
       "Coordinate Operation:\n",
       "- name: Irish Grid\n",
       "- method: Transverse Mercator\n",
       "Datum: TM65\n",
       "- Ellipsoid: Airy Modified 1849\n",
       "- Prime Meridian: Greenwich"
      ]
     },
     "execution_count": 52,
     "metadata": {},
     "output_type": "execute_result"
    }
   ],
   "source": [
    "counties.crs"
   ]
  },
  {
   "cell_type": "code",
   "execution_count": 53,
   "id": "c350a50e",
   "metadata": {},
   "outputs": [
    {
     "data": {
      "text/html": [
       "<div>\n",
       "<style scoped>\n",
       "    .dataframe tbody tr th:only-of-type {\n",
       "        vertical-align: middle;\n",
       "    }\n",
       "\n",
       "    .dataframe tbody tr th {\n",
       "        vertical-align: top;\n",
       "    }\n",
       "\n",
       "    .dataframe thead th {\n",
       "        text-align: right;\n",
       "    }\n",
       "</style>\n",
       "<table border=\"1\" class=\"dataframe\">\n",
       "  <thead>\n",
       "    <tr style=\"text-align: right;\">\n",
       "      <th></th>\n",
       "      <th>COUNTY_ID</th>\n",
       "      <th>CountyName</th>\n",
       "      <th>Area_SqKM</th>\n",
       "      <th>OBJECTID</th>\n",
       "      <th>geometry</th>\n",
       "      <th>index_right</th>\n",
       "      <th>Tile</th>\n",
       "      <th>class</th>\n",
       "      <th>x</th>\n",
       "      <th>y</th>\n",
       "    </tr>\n",
       "  </thead>\n",
       "  <tbody>\n",
       "  </tbody>\n",
       "</table>\n",
       "</div>"
      ],
      "text/plain": [
       "Empty GeoDataFrame\n",
       "Columns: [COUNTY_ID, CountyName, Area_SqKM, OBJECTID, geometry, index_right, Tile, class, x, y]\n",
       "Index: []"
      ]
     },
     "execution_count": 53,
     "metadata": {},
     "output_type": "execute_result"
    }
   ],
   "source": [
    "join = gpd.sjoin(counties, gradon, how='inner', op=\"within\") # perform the spatial join\n",
    "join # show the joined table"
   ]
  },
  {
   "cell_type": "code",
   "execution_count": 54,
   "id": "c4a786e1",
   "metadata": {},
   "outputs": [
    {
     "name": "stdout",
     "output_type": "stream",
     "text": [
      "Empty GeoDataFrame\n",
      "Columns: [COUNTY_ID, CountyName, Area_SqKM, OBJECTID, geometry, index_right, Tile, class, x, y]\n",
      "Index: []\n"
     ]
    },
    {
     "ename": "ValueError",
     "evalue": "Cannot write empty DataFrame to file.",
     "output_type": "error",
     "traceback": [
      "\u001b[1;31m---------------------------------------------------------------------------\u001b[0m",
      "\u001b[1;31mValueError\u001b[0m                                Traceback (most recent call last)",
      "\u001b[1;32m<ipython-input-54-19dc00a4bbd9>\u001b[0m in \u001b[0;36m<module>\u001b[1;34m\u001b[0m\n\u001b[0;32m      1\u001b[0m \u001b[0mprint\u001b[0m\u001b[1;33m(\u001b[0m\u001b[0mjoin\u001b[0m\u001b[1;33m)\u001b[0m\u001b[1;33m\u001b[0m\u001b[1;33m\u001b[0m\u001b[0m\n\u001b[1;32m----> 2\u001b[1;33m \u001b[0mjoin\u001b[0m\u001b[1;33m.\u001b[0m\u001b[0mto_file\u001b[0m\u001b[1;33m(\u001b[0m\u001b[1;34m'join.shp'\u001b[0m\u001b[1;33m)\u001b[0m\u001b[1;33m\u001b[0m\u001b[1;33m\u001b[0m\u001b[0m\n\u001b[0m",
      "\u001b[1;32m~\\anaconda3\\envs\\RadonNI\\lib\\site-packages\\geopandas\\geodataframe.py\u001b[0m in \u001b[0;36mto_file\u001b[1;34m(self, filename, driver, schema, index, **kwargs)\u001b[0m\n\u001b[0;32m   1084\u001b[0m         \u001b[1;32mfrom\u001b[0m \u001b[0mgeopandas\u001b[0m\u001b[1;33m.\u001b[0m\u001b[0mio\u001b[0m\u001b[1;33m.\u001b[0m\u001b[0mfile\u001b[0m \u001b[1;32mimport\u001b[0m \u001b[0m_to_file\u001b[0m\u001b[1;33m\u001b[0m\u001b[1;33m\u001b[0m\u001b[0m\n\u001b[0;32m   1085\u001b[0m \u001b[1;33m\u001b[0m\u001b[0m\n\u001b[1;32m-> 1086\u001b[1;33m         \u001b[0m_to_file\u001b[0m\u001b[1;33m(\u001b[0m\u001b[0mself\u001b[0m\u001b[1;33m,\u001b[0m \u001b[0mfilename\u001b[0m\u001b[1;33m,\u001b[0m \u001b[0mdriver\u001b[0m\u001b[1;33m,\u001b[0m \u001b[0mschema\u001b[0m\u001b[1;33m,\u001b[0m \u001b[0mindex\u001b[0m\u001b[1;33m,\u001b[0m \u001b[1;33m**\u001b[0m\u001b[0mkwargs\u001b[0m\u001b[1;33m)\u001b[0m\u001b[1;33m\u001b[0m\u001b[1;33m\u001b[0m\u001b[0m\n\u001b[0m\u001b[0;32m   1087\u001b[0m \u001b[1;33m\u001b[0m\u001b[0m\n\u001b[0;32m   1088\u001b[0m     \u001b[1;32mdef\u001b[0m \u001b[0mset_crs\u001b[0m\u001b[1;33m(\u001b[0m\u001b[0mself\u001b[0m\u001b[1;33m,\u001b[0m \u001b[0mcrs\u001b[0m\u001b[1;33m=\u001b[0m\u001b[1;32mNone\u001b[0m\u001b[1;33m,\u001b[0m \u001b[0mepsg\u001b[0m\u001b[1;33m=\u001b[0m\u001b[1;32mNone\u001b[0m\u001b[1;33m,\u001b[0m \u001b[0minplace\u001b[0m\u001b[1;33m=\u001b[0m\u001b[1;32mFalse\u001b[0m\u001b[1;33m,\u001b[0m \u001b[0mallow_override\u001b[0m\u001b[1;33m=\u001b[0m\u001b[1;32mFalse\u001b[0m\u001b[1;33m)\u001b[0m\u001b[1;33m:\u001b[0m\u001b[1;33m\u001b[0m\u001b[1;33m\u001b[0m\u001b[0m\n",
      "\u001b[1;32m~\\anaconda3\\envs\\RadonNI\\lib\\site-packages\\geopandas\\io\\file.py\u001b[0m in \u001b[0;36m_to_file\u001b[1;34m(df, filename, driver, schema, index, mode, crs, **kwargs)\u001b[0m\n\u001b[0;32m    302\u001b[0m         \u001b[0mdf\u001b[0m \u001b[1;33m=\u001b[0m \u001b[0mdf\u001b[0m\u001b[1;33m.\u001b[0m\u001b[0mreset_index\u001b[0m\u001b[1;33m(\u001b[0m\u001b[0mdrop\u001b[0m\u001b[1;33m=\u001b[0m\u001b[1;32mFalse\u001b[0m\u001b[1;33m)\u001b[0m\u001b[1;33m\u001b[0m\u001b[1;33m\u001b[0m\u001b[0m\n\u001b[0;32m    303\u001b[0m     \u001b[1;32mif\u001b[0m \u001b[0mschema\u001b[0m \u001b[1;32mis\u001b[0m \u001b[1;32mNone\u001b[0m\u001b[1;33m:\u001b[0m\u001b[1;33m\u001b[0m\u001b[1;33m\u001b[0m\u001b[0m\n\u001b[1;32m--> 304\u001b[1;33m         \u001b[0mschema\u001b[0m \u001b[1;33m=\u001b[0m \u001b[0minfer_schema\u001b[0m\u001b[1;33m(\u001b[0m\u001b[0mdf\u001b[0m\u001b[1;33m)\u001b[0m\u001b[1;33m\u001b[0m\u001b[1;33m\u001b[0m\u001b[0m\n\u001b[0m\u001b[0;32m    305\u001b[0m     \u001b[1;32mif\u001b[0m \u001b[0mcrs\u001b[0m\u001b[1;33m:\u001b[0m\u001b[1;33m\u001b[0m\u001b[1;33m\u001b[0m\u001b[0m\n\u001b[0;32m    306\u001b[0m         \u001b[0mcrs\u001b[0m \u001b[1;33m=\u001b[0m \u001b[0mpyproj\u001b[0m\u001b[1;33m.\u001b[0m\u001b[0mCRS\u001b[0m\u001b[1;33m.\u001b[0m\u001b[0mfrom_user_input\u001b[0m\u001b[1;33m(\u001b[0m\u001b[0mcrs\u001b[0m\u001b[1;33m)\u001b[0m\u001b[1;33m\u001b[0m\u001b[1;33m\u001b[0m\u001b[0m\n",
      "\u001b[1;32m~\\anaconda3\\envs\\RadonNI\\lib\\site-packages\\geopandas\\io\\file.py\u001b[0m in \u001b[0;36minfer_schema\u001b[1;34m(df)\u001b[0m\n\u001b[0;32m    360\u001b[0m \u001b[1;33m\u001b[0m\u001b[0m\n\u001b[0;32m    361\u001b[0m     \u001b[1;32mif\u001b[0m \u001b[0mdf\u001b[0m\u001b[1;33m.\u001b[0m\u001b[0mempty\u001b[0m\u001b[1;33m:\u001b[0m\u001b[1;33m\u001b[0m\u001b[1;33m\u001b[0m\u001b[0m\n\u001b[1;32m--> 362\u001b[1;33m         \u001b[1;32mraise\u001b[0m \u001b[0mValueError\u001b[0m\u001b[1;33m(\u001b[0m\u001b[1;34m\"Cannot write empty DataFrame to file.\"\u001b[0m\u001b[1;33m)\u001b[0m\u001b[1;33m\u001b[0m\u001b[1;33m\u001b[0m\u001b[0m\n\u001b[0m\u001b[0;32m    363\u001b[0m \u001b[1;33m\u001b[0m\u001b[0m\n\u001b[0;32m    364\u001b[0m     \u001b[1;31m# Since https://github.com/Toblerity/Fiona/issues/446 resolution,\u001b[0m\u001b[1;33m\u001b[0m\u001b[1;33m\u001b[0m\u001b[1;33m\u001b[0m\u001b[0m\n",
      "\u001b[1;31mValueError\u001b[0m: Cannot write empty DataFrame to file."
     ]
    }
   ],
   "source": [
    "print(join)\n",
    "join.to_file('join.shp')"
   ]
  },
  {
   "cell_type": "code",
   "execution_count": null,
   "id": "177f4165",
   "metadata": {},
   "outputs": [],
   "source": [
    "f, ax = plt.subplots(1)\n",
    "# Plot point in light grey\n",
    "for poly in counties['geometry']:\n",
    "    gpd.plotting.plot_multipolygon(ax, poly, color='grey', alpha=0.25)\n",
    "# Overlay railway tunnels on top in strong green\n",
    "for point in radon['geometry']:\n",
    "    gpd.plotting.plot_multipoint(ax, poly, color='grey', linewidth=3)"
   ]
  },
  {
   "cell_type": "code",
   "execution_count": null,
   "id": "0e1096ed",
   "metadata": {},
   "outputs": [],
   "source": []
  },
  {
   "cell_type": "code",
   "execution_count": null,
   "id": "6d9fc44e",
   "metadata": {},
   "outputs": [],
   "source": []
  },
  {
   "cell_type": "code",
   "execution_count": null,
   "id": "9f3c4d4e",
   "metadata": {},
   "outputs": [],
   "source": []
  },
  {
   "cell_type": "code",
   "execution_count": null,
   "id": "df2aa43f",
   "metadata": {},
   "outputs": [],
   "source": []
  },
  {
   "cell_type": "code",
   "execution_count": null,
   "id": "6d06b1ba",
   "metadata": {},
   "outputs": [],
   "source": []
  },
  {
   "cell_type": "code",
   "execution_count": null,
   "id": "5c91fe81",
   "metadata": {},
   "outputs": [],
   "source": []
  }
 ],
 "metadata": {
  "kernelspec": {
   "display_name": "Python 3",
   "language": "python",
   "name": "python3"
  },
  "language_info": {
   "codemirror_mode": {
    "name": "ipython",
    "version": 3
   },
   "file_extension": ".py",
   "mimetype": "text/x-python",
   "name": "python",
   "nbconvert_exporter": "python",
   "pygments_lexer": "ipython3",
   "version": "3.9.2"
  }
 },
 "nbformat": 4,
 "nbformat_minor": 5
}
