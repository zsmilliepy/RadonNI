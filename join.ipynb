{
 "cells": [
  {
   "cell_type": "code",
   "execution_count": 1,
   "id": "d59c7632",
   "metadata": {},
   "outputs": [],
   "source": [
    "import os\n",
    "import matplotlib.pyplot as plt\n",
    "import matplotlib.lines as mlines\n",
    "from matplotlib.colors import ListedColormap\n",
    "import numpy as np\n",
    "import pandas as pd\n",
    "from shapely.geometry import box\n",
    "import geopandas as gpd\n",
    "import earthpy as et\n",
    "from shapely.geometry import Point, LineString, Polygon"
   ]
  },
  {
   "cell_type": "code",
   "execution_count": 2,
   "id": "091fb2f9",
   "metadata": {},
   "outputs": [],
   "source": [
    "bedrocks = gpd.read_file('data_files/bedrocks.shp')"
   ]
  },
  {
   "cell_type": "code",
   "execution_count": 3,
   "id": "cda017ef",
   "metadata": {},
   "outputs": [],
   "source": [
    "radon = gpd.read_file('data_files/RadonNI.shp')"
   ]
  },
  {
   "cell_type": "code",
   "execution_count": 5,
   "id": "42f0e0da",
   "metadata": {},
   "outputs": [
    {
     "name": "stdout",
     "output_type": "stream",
     "text": [
      "<class 'geopandas.geodataframe.GeoDataFrame'>\n",
      "RangeIndex: 14720 entries, 0 to 14719\n",
      "Data columns (total 6 columns):\n",
      " #   Column     Non-Null Count  Dtype   \n",
      "---  ------     --------------  -----   \n",
      " 0   Tile       14720 non-null  object  \n",
      " 1   Class_max  14720 non-null  int64   \n",
      " 2   Version    14720 non-null  object  \n",
      " 3   xcoord     14720 non-null  float64 \n",
      " 4   ycoord     14720 non-null  float64 \n",
      " 5   geometry   14720 non-null  geometry\n",
      "dtypes: float64(2), geometry(1), int64(1), object(2)\n",
      "memory usage: 690.1+ KB\n"
     ]
    }
   ],
   "source": [
    "radon.info() #summary"
   ]
  },
  {
   "cell_type": "code",
   "execution_count": 6,
   "id": "254641fe",
   "metadata": {},
   "outputs": [
    {
     "name": "stdout",
     "output_type": "stream",
     "text": [
      "<class 'geopandas.geodataframe.GeoDataFrame'>\n",
      "RangeIndex: 2263 entries, 0 to 2262\n",
      "Data columns (total 12 columns):\n",
      " #   Column      Non-Null Count  Dtype   \n",
      "---  ------      --------------  -----   \n",
      " 0   MSLINK_0    2263 non-null   int64   \n",
      " 1   LEX         2254 non-null   object  \n",
      " 2   ROCK        2254 non-null   object  \n",
      " 3   LEXICONDES  2254 non-null   object  \n",
      " 4   ROCKDESC    2254 non-null   object  \n",
      " 5   AGE         2055 non-null   object  \n",
      " 6   BGSREF      2263 non-null   int64   \n",
      " 7   BGSTYPE     2254 non-null   object  \n",
      " 8   LEX_ROCK    2254 non-null   object  \n",
      " 9   MAJOR_ROCK  0 non-null      object  \n",
      " 10  DERMOT      2263 non-null   object  \n",
      " 11  geometry    2263 non-null   geometry\n",
      "dtypes: geometry(1), int64(2), object(9)\n",
      "memory usage: 212.3+ KB\n"
     ]
    }
   ],
   "source": [
    "bedrocks.info() #summary"
   ]
  },
  {
   "cell_type": "code",
   "execution_count": 11,
   "id": "c19f933a",
   "metadata": {},
   "outputs": [
    {
     "name": "stdout",
     "output_type": "stream",
     "text": [
      "    Tile  Class_max            Version    xcoord    ycoord  \\\n",
      "0  D1053          1  Radon_Atlas_NI_V1  310500.0  453500.0   \n",
      "1  D1153          1  Radon_Atlas_NI_V1  311500.0  453500.0   \n",
      "2  D1253          1  Radon_Atlas_NI_V1  312500.0  453500.0   \n",
      "3  D0952          2  Radon_Atlas_NI_V1  309500.0  452500.0   \n",
      "4  D1052          2  Radon_Atlas_NI_V1  310500.0  452500.0   \n",
      "\n",
      "                        geometry  \n",
      "0  POINT (310500.000 453500.000)  \n",
      "1  POINT (311500.000 453500.000)  \n",
      "2  POINT (312500.000 453500.000)  \n",
      "3  POINT (309500.000 452500.000)  \n",
      "4  POINT (310500.000 452500.000)  \n"
     ]
    }
   ],
   "source": [
    "print(radon.head())"
   ]
  },
  {
   "cell_type": "code",
   "execution_count": 12,
   "id": "0f1e081c",
   "metadata": {},
   "outputs": [
    {
     "name": "stdout",
     "output_type": "stream",
     "text": [
      "   MSLINK_0   LEX  ROCK                                       LEXICONDES  \\\n",
      "0      3678  SHRD  RHYD                          SHANE'S HILL RHYODACITE   \n",
      "1      3678  SHRD  RHYD                          SHANE'S HILL RHYODACITE   \n",
      "2      3659   UIG  RHYO            UNNAMED IGNEOUS INTRUSION, PALAEOGENE   \n",
      "3      3663   TPR  RHYO  TEMPLEPATRICK RHYOLITE [OBSOLETE NAME AND CODE]   \n",
      "4      3659   UIG  RHYO            UNNAMED IGNEOUS INTRUSION, PALAEOGENE   \n",
      "\n",
      "                      ROCKDESC AGE  BGSREF        BGSTYPE   LEX_ROCK  \\\n",
      "0  RHYODACITE             1BAB  GP     703  250k_NI_SOLID  SHRD-RHYD   \n",
      "1  RHYODACITE             1BAB  GP     703  250k_NI_SOLID  SHRD-RHYD   \n",
      "2  RHYOLITE               1BAA   G     703  250k_NI_SOLID   UIG-RHYO   \n",
      "3  RHYOLITE               1BAA  GP     703  250k_NI_SOLID   TPR-RHYO   \n",
      "4  RHYOLITE               1BAA   G     703  250k_NI_SOLID   UIG-RHYO   \n",
      "\n",
      "  MAJOR_ROCK             DERMOT  \\\n",
      "0       None  5. ACID VOLCANICS   \n",
      "1       None  5. ACID VOLCANICS   \n",
      "2       None  5. ACID VOLCANICS   \n",
      "3       None  5. ACID VOLCANICS   \n",
      "4       None  5. ACID VOLCANICS   \n",
      "\n",
      "                                            geometry  \n",
      "0  POLYGON ((306027.195 353143.694, 306147.747 35...  \n",
      "1  POLYGON ((305968.411 353228.661, 306164.238 35...  \n",
      "2  POLYGON ((313527.461 407868.052, 313589.811 40...  \n",
      "3  POLYGON ((325888.569 386805.060, 325974.534 38...  \n",
      "4  POLYGON ((311478.844 406950.057, 311603.542 40...  \n"
     ]
    }
   ],
   "source": [
    "print(bedrocks.head())"
   ]
  },
  {
   "cell_type": "code",
   "execution_count": null,
   "id": "6bc4c1a3",
   "metadata": {},
   "outputs": [],
   "source": []
  }
 ],
 "metadata": {
  "kernelspec": {
   "display_name": "Python 3",
   "language": "python",
   "name": "python3"
  },
  "language_info": {
   "codemirror_mode": {
    "name": "ipython",
    "version": 3
   },
   "file_extension": ".py",
   "mimetype": "text/x-python",
   "name": "python",
   "nbconvert_exporter": "python",
   "pygments_lexer": "ipython3",
   "version": "3.9.2"
  }
 },
 "nbformat": 4,
 "nbformat_minor": 5
}
